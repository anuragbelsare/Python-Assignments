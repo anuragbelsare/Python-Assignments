{
 "cells": [
  {
   "cell_type": "markdown",
   "id": "0897fc83",
   "metadata": {},
   "source": [
    "###### 1. To what does a relative path refer?\n",
    "A relative path refers to a location that is relative to a current directory"
   ]
  },
  {
   "cell_type": "markdown",
   "id": "d780fba5",
   "metadata": {},
   "source": [
    "###### 2. What does an absolute path start with your operating system?\n",
    "An absolute path always contains the root element and the complete directory list required to locate the file. For example, /home/sally/statusReport is an absolute path. All of the information needed to locate the file is contained in the path string."
   ]
  },
  {
   "cell_type": "markdown",
   "id": "cf3f7fbd",
   "metadata": {},
   "source": [
    "###### 3. What do the functions os.getcwd() and os.chdir() do?\n",
    "getcwd() : CWD stands for Current Working Directory. This function allows you to see what your current working directory is. \n",
    "\n",
    "chdir(\"path-to-dir\") : Short for CHange DIRectory, this function allows you to set the current working directory to a path of your choice."
   ]
  },
  {
   "cell_type": "markdown",
   "id": "7cfa54b0",
   "metadata": {},
   "source": [
    "###### 5. In C:\\bacon\\eggs\\spam.txt, which part is the dir name, and which part is the base name?\n",
    "C:\\bacon\\eggs is the dir name, \n",
    "spam.txt is the base name."
   ]
  },
  {
   "cell_type": "markdown",
   "id": "16a942ce",
   "metadata": {},
   "source": [
    "###### 4. What are the . and .. folders?\n",
    "The . folder is the current folder, and .. is the parent folder.\n"
   ]
  },
  {
   "cell_type": "markdown",
   "id": "c118aa99",
   "metadata": {},
   "source": [
    "###### 6. What are the three “mode” arguments that can be passed to the open() function?\n",
    "The string 'r' for read mode, 'w' for write mode, and 'a' for append mode"
   ]
  },
  {
   "cell_type": "markdown",
   "id": "0f6f226a",
   "metadata": {},
   "source": [
    "###### 7. What happens if an existing file is opened in write mode?\n",
    "An existing file opened in write mode is erased and completely overwritten."
   ]
  },
  {
   "cell_type": "markdown",
   "id": "25b2102c",
   "metadata": {},
   "source": [
    "###### 8. How do you tell the difference between read() and readlines()?\n",
    "The read() method returns the file's entire contents as a single string value. \n",
    "The readlines() method returns a list of strings, where each string is a line from the file's contents."
   ]
  },
  {
   "cell_type": "markdown",
   "id": "fd9dcc3b",
   "metadata": {},
   "source": [
    "###### 9. What data structure does a shelf value resemble?\n",
    "A shelf value resembles a dictionary value; it has keys and values, along with keys() and values() methods that work similarly to the dictionary methods of the same names."
   ]
  }
 ],
 "metadata": {
  "kernelspec": {
   "display_name": "Python 3 (ipykernel)",
   "language": "python",
   "name": "python3"
  },
  "language_info": {
   "codemirror_mode": {
    "name": "ipython",
    "version": 3
   },
   "file_extension": ".py",
   "mimetype": "text/x-python",
   "name": "python",
   "nbconvert_exporter": "python",
   "pygments_lexer": "ipython3",
   "version": "3.9.7"
  }
 },
 "nbformat": 4,
 "nbformat_minor": 5
}
