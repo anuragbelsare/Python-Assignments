{
 "cells": [
  {
   "cell_type": "code",
   "execution_count": 16,
   "id": "eacb95d0",
   "metadata": {},
   "outputs": [],
   "source": [
    "#1. Add the current date to the text file today.txt as a string.\n",
    "\n",
    "import datetime\n",
    "f=open(\"today.txt\",\"w\")\n",
    "t=date.today()\n",
    "today=t.strftime(\"%b %d %Y\")\n",
    "f.write(today)\n",
    "f.close()"
   ]
  },
  {
   "cell_type": "code",
   "execution_count": 17,
   "id": "3fc85c63",
   "metadata": {},
   "outputs": [
    {
     "name": "stdout",
     "output_type": "stream",
     "text": [
      "Jan 27 2022\n"
     ]
    }
   ],
   "source": [
    "#2. Read the text file today.txt into the string today_string\n",
    "f=open(\"today.txt\",\"r+\")\n",
    "today_string=f.read()\n",
    "print(today_string)\n"
   ]
  },
  {
   "cell_type": "code",
   "execution_count": 24,
   "id": "7fc6213b",
   "metadata": {},
   "outputs": [
    {
     "name": "stdout",
     "output_type": "stream",
     "text": [
      "27/01/2022\n"
     ]
    }
   ],
   "source": [
    "#3. Parse the date from today_string.\n",
    "import datetime\n",
    "datetime_object = datetime.datetime.strptime(today_string, \"%b %d %Y\")\n",
    "newly_formatted_string = datetime_object. strftime(\"%d/%m/%Y\")\n",
    "print(newly_formatted_string)\n"
   ]
  },
  {
   "cell_type": "code",
   "execution_count": 26,
   "id": "4f203a0c",
   "metadata": {},
   "outputs": [
    {
     "data": {
      "text/plain": [
       "['.ipynb_checkpoints',\n",
       " 'Assign_1.ipynb',\n",
       " 'Assign_10.ipynb',\n",
       " 'Assign_11.ipynb',\n",
       " 'Assign_12.ipynb',\n",
       " 'Assign_15.ipynb',\n",
       " 'Assign_16.ipynb',\n",
       " 'Assign_17.ipynb',\n",
       " 'Assign_18.ipynb',\n",
       " 'Assign_2.ipynb',\n",
       " 'Assign_22.ipynb',\n",
       " 'Assign_23.ipynb',\n",
       " 'Assign_24.ipynb',\n",
       " 'Assign_25.ipynb',\n",
       " 'Assign_3.ipynb',\n",
       " 'Assign_4.ipynb',\n",
       " 'Assign_5.ipynb',\n",
       " 'Assign_6.ipynb',\n",
       " 'Assign_9.ipynb',\n",
       " 'rename.ipynb',\n",
       " 'today.text',\n",
       " 'today.txt',\n",
       " 'Untitled.ipynb',\n",
       " 'Untitled1.ipynb',\n",
       " 'Untitled2.ipynb',\n",
       " 'zoo.py',\n",
       " '__pycache__']"
      ]
     },
     "execution_count": 26,
     "metadata": {},
     "output_type": "execute_result"
    }
   ],
   "source": [
    "#4. List the files in your current directory\n",
    "import os\n",
    "os.listdir()"
   ]
  },
  {
   "cell_type": "code",
   "execution_count": 31,
   "id": "ae73af16",
   "metadata": {},
   "outputs": [
    {
     "data": {
      "text/plain": [
       "['.ipynb_checkpoints',\n",
       " 'Assign_9.ipynb',\n",
       " 'Holiday Homework',\n",
       " 'Programming Assignment',\n",
       " 'r',\n",
       " 'Theory Assignments',\n",
       " 'Untitled.ipynb']"
      ]
     },
     "execution_count": 31,
     "metadata": {},
     "output_type": "execute_result"
    }
   ],
   "source": [
    "#5. Create a list of all of the files in your parent directory (minimum five files should be available).\n",
    "parent_directory= os.path.abspath(os.path.join(os.getcwd(), os.pardir))\n",
    "os.listdir(parent_directory)"
   ]
  },
  {
   "cell_type": "code",
   "execution_count": 89,
   "id": "9e9deaf8",
   "metadata": {},
   "outputs": [],
   "source": [
    "#6. Use multiprocessing to create three separate processes. \n",
    "#Make each one wait a random number of seconds between one and five, print the current time, and then exit.\n"
   ]
  },
  {
   "cell_type": "code",
   "execution_count": 57,
   "id": "2c1a3571",
   "metadata": {},
   "outputs": [
    {
     "name": "stdout",
     "output_type": "stream",
     "text": [
      "Tuesday Feb 08 2000\n"
     ]
    }
   ],
   "source": [
    "#7. Create a date object of your day of birth.\n",
    "import datetime\n",
    "date_string = \"Feb 8 2000\"\n",
    "datetime_object = datetime.datetime.strptime(date_string, \"%a %b %d %Y\")\n",
    "newly_formatted_string = datetime_object.strftime(\"%A %b %d %Y\")\n",
    "print(newly_formatted_string)"
   ]
  },
  {
   "cell_type": "code",
   "execution_count": 60,
   "id": "4b1df973",
   "metadata": {},
   "outputs": [
    {
     "name": "stdout",
     "output_type": "stream",
     "text": [
      "Tuesday\n"
     ]
    }
   ],
   "source": [
    "#8. What day of the week was your day of birth?\n",
    "import datetime\n",
    "date_string = \"Feb 8 2000\"\n",
    "datetime_object = datetime.datetime.strptime(date_string, \"%b %d %Y\")\n",
    "newly_formatted_string = datetime_object.strftime(\"%A\")\n",
    "print(newly_formatted_string)"
   ]
  },
  {
   "cell_type": "code",
   "execution_count": 88,
   "id": "6087d7ff",
   "metadata": {},
   "outputs": [
    {
     "name": "stdout",
     "output_type": "stream",
     "text": [
      "22 / 6 / 2007\n"
     ]
    }
   ],
   "source": [
    "#9. When will you be (or when were you) 10,000 days old?\n",
    "# Python3 code to calculate age in years\n",
    "\n",
    "from datetime import date\n",
    "days=0\n",
    "\n",
    "birthdate = date(1980, 2, 27)\n",
    "b_year = birthdate.year\n",
    "days=10000\n",
    "b_month=birthdate.month\n",
    "b_day=birthdate.day\n",
    "year_1=days//365\n",
    "days=days%365\n",
    "month_1=days//30\n",
    "day_1=days%30\n",
    "\n",
    "f_year=year_1+b_year\n",
    "f_month=month_1+b_month\n",
    "f_day=day_1+b_day\n",
    "\n",
    "if(f_day > 30):\n",
    "    f_day=f_day-30\n",
    "    f_month+1\n",
    "\n",
    "\n",
    "print(f_day,\"/\",f_month,\"/\",f_year)"
   ]
  },
  {
   "cell_type": "code",
   "execution_count": null,
   "id": "4fe2aa2c",
   "metadata": {},
   "outputs": [],
   "source": [
    "import multiprocessing\n",
    "import time\n",
    "import datetime\n",
    "\n",
    "def sleepy_man(sec):\n",
    "    print('Printing Time'.format(sec))\n",
    "    print(.)\n",
    "    time.sleep(sec)\n",
    "    print('Done sleeping for {} seconds'.format(sec))\n",
    "\n",
    "tic = time.time()\n",
    "\n",
    "pool = multiprocessing.Pool(5)\n",
    "pool.map(sleepy_man, range(1,5))\n",
    "pool.close()\n",
    "\n",
    "toc = time.time()\n",
    "\n",
    "print('Done in {:.4f} seconds'.format(toc-tic))"
   ]
  },
  {
   "cell_type": "code",
   "execution_count": null,
   "id": "78b35629",
   "metadata": {},
   "outputs": [],
   "source": []
  }
 ],
 "metadata": {
  "kernelspec": {
   "display_name": "Python 3 (ipykernel)",
   "language": "python",
   "name": "python3"
  },
  "language_info": {
   "codemirror_mode": {
    "name": "ipython",
    "version": 3
   },
   "file_extension": ".py",
   "mimetype": "text/x-python",
   "name": "python",
   "nbconvert_exporter": "python",
   "pygments_lexer": "ipython3",
   "version": "3.9.7"
  }
 },
 "nbformat": 4,
 "nbformat_minor": 5
}
