{
 "cells": [
  {
   "cell_type": "markdown",
   "id": "9048bbfe",
   "metadata": {},
   "source": [
    "##### 1. How do you distinguish between shutil.copy() and shutil.copytree()?\n",
    "The shutil. copy() function will copy a single file, \n",
    "while shutil. copytree() will copy an entire folder, along with all its contents."
   ]
  },
  {
   "cell_type": "markdown",
   "id": "9a016fc2",
   "metadata": {},
   "source": [
    "###### 2. What function is used to rename files??\n",
    "os.rename() method in Python is used to rename a file or directory.\n",
    "This method renames a source file/ directory to specified destination file/directory.\n",
    "\n",
    "Syntax: os.rename(source, destination, *, src_dir_fd = None, dst_dir_fd = None)\n",
    "\n",
    "Parameters:\n",
    "source: A path-like object representing the file system path. This is the source file path which is to renamed.\n",
    "destination: A path-like object representing the file system path.\n",
    "src_dir_fd (optional): A file descriptor referring to a directory.\n",
    "dst_dir_fd (optional): A file descriptor referring to a directory.\n",
    "\n",
    "Return Type: This method does not return any value."
   ]
  },
  {
   "cell_type": "markdown",
   "id": "30ebba76",
   "metadata": {},
   "source": [
    "###### 3. What is the difference between the delete functions in the send2trash and shutil modules?"
   ]
  },
  {
   "cell_type": "markdown",
   "id": "9f5e49b6",
   "metadata": {},
   "source": [
    "The send2trash functions will move a file or folder to the recycle bin,\n",
    "while shutil functions will permanently delete files and folders."
   ]
  },
  {
   "cell_type": "markdown",
   "id": "1c521980",
   "metadata": {},
   "source": [
    "###### 4.ZipFile objects have a close() method just like File objects’ close() method. What ZipFile method is equivalent to File objects’ open() method?"
   ]
  },
  {
   "cell_type": "markdown",
   "id": "2c0b5f00",
   "metadata": {},
   "source": [
    "ZipFile objects are conceptually similar to the File objects you saw returned by the open() function \n",
    "they are values through which the program interacts with the file."
   ]
  },
  {
   "cell_type": "markdown",
   "id": "6f466c2c",
   "metadata": {},
   "source": [
    "###### 5. Create a programme that searches a folder tree for files with a certain file extension (such as .pdf or .jpg). \n",
    "Copy these files from whatever location they are in to a new folder."
   ]
  },
  {
   "cell_type": "code",
   "execution_count": 3,
   "id": "b338a26f",
   "metadata": {},
   "outputs": [],
   "source": [
    "import os,shutil\n",
    "def Copy(folder,extensions,destFolder):\n",
    "    folder = os.path.abspath(folder)\n",
    "    destFolder = os.path.abspath(destFolder)\n",
    "    for foldernames,subfolders,filenames in os.walk(folder):\n",
    "        for filename in filenames :\n",
    "            name,extension = os.path.splitext(filename)\n",
    "            if extension in extensions :\n",
    "                fileAbsPath = foldernames + os.path.sep + filename\n",
    "                shutil.copy(fileAbsPath,destFolder)\n",
    "\n",
    "\n",
    "\n",
    "extensions = ['.jpg']\n",
    "folder = 'D:\\\\mypython'\n",
    "destFolder = 'D:\\\\'\n",
    "Copy(folder, extensions, destFolder)"
   ]
  },
  {
   "cell_type": "code",
   "execution_count": null,
   "id": "7dc7026d",
   "metadata": {},
   "outputs": [],
   "source": []
  }
 ],
 "metadata": {
  "kernelspec": {
   "display_name": "Python 3 (ipykernel)",
   "language": "python",
   "name": "python3"
  },
  "language_info": {
   "codemirror_mode": {
    "name": "ipython",
    "version": 3
   },
   "file_extension": ".py",
   "mimetype": "text/x-python",
   "name": "python",
   "nbconvert_exporter": "python",
   "pygments_lexer": "ipython3",
   "version": "3.9.7"
  }
 },
 "nbformat": 4,
 "nbformat_minor": 5
}
