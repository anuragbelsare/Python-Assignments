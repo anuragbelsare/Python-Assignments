{
 "cells": [
  {
   "cell_type": "code",
   "execution_count": null,
   "id": "7dc1d8f7",
   "metadata": {},
   "outputs": [],
   "source": [
    "1) . What is the difference between enclosing a list comprehension in square brackets and parentheses?\n",
    "Square brackets are lists while parentheses are tuples."
   ]
  },
  {
   "cell_type": "code",
   "execution_count": null,
   "id": "e443ad2c",
   "metadata": {},
   "outputs": [],
   "source": [
    "2) What is the relationship between generators and iterators?\n",
    "\n",
    "Iterator                                                            Generator\n",
    "\n",
    "1.Class is used to implement an iterator                         1. Function is used to implement a generator.\n",
    "2.Local Variables aren’t used here                               2.All the local variables before the yield function \n",
    "                                                                    are stored. \n",
    "3.Iterators are used mostly to iterate or                        3.Generators are mostly used in loops \n",
    " convert other objects to an iterator                              to generate an iterator by returning all the values \n",
    " using iter() function.                                            in the loop without affecting the iteration of the loop\n",
    " \n",
    "4.Iterator uses iter() and next() functions                      4.Generator uses yield keyword\n",
    "5.Every iterator is not a generator                               5.Every generator is an iterator"
   ]
  },
  {
   "cell_type": "code",
   "execution_count": null,
   "id": "d5aef4bc",
   "metadata": {},
   "outputs": [],
   "source": [
    "3) What are the signs that a function is a generator function?\n",
    "A Python generator is a function that produces a sequence of results.\n",
    "It works by maintaining its local state, so that the function can resume again exactly\n",
    "where it left off when called subsequent times.\n",
    "Thus, you can think of a generator as something like a powerful iterator."
   ]
  },
  {
   "cell_type": "code",
   "execution_count": null,
   "id": "1346ad0d",
   "metadata": {},
   "outputs": [],
   "source": [
    "4) What is the purpose of a yield statement?\n",
    "The yield statement suspends function's execution and sends a value back to the caller,\n",
    "but retains enough state to enable function to resume where it is left off. \n",
    "When resumed, the function continues execution immediately after the last yield run."
   ]
  },
  {
   "cell_type": "code",
   "execution_count": null,
   "id": "e370b913",
   "metadata": {},
   "outputs": [],
   "source": [
    "5) What is the relationship between map calls and list comprehensions? Make a comparison and contrast between the two.\n",
    "List comprehension is more concise and easier to read as compared to map.\n",
    "List comprehension are used when a list of results is required as map only returns a map object \n",
    "and does not return any list. \n",
    "Map is faster in case of calling an already defined function (as no lambda is required)."
   ]
  }
 ],
 "metadata": {
  "kernelspec": {
   "display_name": "Python 3 (ipykernel)",
   "language": "python",
   "name": "python3"
  },
  "language_info": {
   "codemirror_mode": {
    "name": "ipython",
    "version": 3
   },
   "file_extension": ".py",
   "mimetype": "text/x-python",
   "name": "python",
   "nbconvert_exporter": "python",
   "pygments_lexer": "ipython3",
   "version": "3.9.7"
  }
 },
 "nbformat": 4,
 "nbformat_minor": 5
}
