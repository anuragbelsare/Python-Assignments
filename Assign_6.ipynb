{
 "cells": [
  {
   "cell_type": "markdown",
   "id": "b8943124",
   "metadata": {},
   "source": [
    "1. What are escape characters, and how do you use them?"
   ]
  },
  {
   "cell_type": "code",
   "execution_count": null,
   "id": "9b7a9793",
   "metadata": {},
   "outputs": [],
   "source": [
    "An escape character is a backslash \\ followed by the character you want to insert.\n",
    "txt = \"We are the so-called \\\"Vikings\\\" from the north.\""
   ]
  },
  {
   "cell_type": "markdown",
   "id": "a736ca37",
   "metadata": {},
   "source": [
    "2. What do the escape characters n and t stand for?"
   ]
  },
  {
   "cell_type": "code",
   "execution_count": null,
   "id": "7dd13e62",
   "metadata": {},
   "outputs": [],
   "source": [
    "\\n - creates a new line\n",
    "\\t - creates a horz.tab"
   ]
  },
  {
   "cell_type": "markdown",
   "id": "9c47c40a",
   "metadata": {},
   "source": [
    "3. What is the way to include backslash characters in a string?"
   ]
  },
  {
   "cell_type": "code",
   "execution_count": null,
   "id": "53d7f929",
   "metadata": {},
   "outputs": [],
   "source": [
    "txt = \"This will insert one \\\\ (backslash).\"--add double backslash"
   ]
  },
  {
   "cell_type": "markdown",
   "id": "3a48c6c7",
   "metadata": {},
   "source": [
    "4. The string \"Howl's Moving Castle\" is a correct value. \n",
    "Why isn't the single quote character in the word Howl's not escaped a problem?"
   ]
  },
  {
   "cell_type": "markdown",
   "id": "0b843da6",
   "metadata": {},
   "source": [
    "The single quote in Howl's is fine because you've used double quotes to mark the beginning and end of the string."
   ]
  },
  {
   "cell_type": "markdown",
   "id": "da87aeb7",
   "metadata": {},
   "source": [
    "5. How do you write a string of newlines if you don't want to use the n character?"
   ]
  },
  {
   "cell_type": "code",
   "execution_count": null,
   "id": "6715785f",
   "metadata": {},
   "outputs": [],
   "source": [
    "using print statement"
   ]
  },
  {
   "cell_type": "markdown",
   "id": "c553c1a1",
   "metadata": {},
   "source": [
    "6. What are the values of the given expressions?\n",
    "'Hello, world!'[1]\n",
    "'Hello, world!'[0:5]\n",
    "'Hello, world!'[:5]\n",
    "'Hello, world!'[3:]\n"
   ]
  },
  {
   "cell_type": "code",
   "execution_count": null,
   "id": "9cc0b507",
   "metadata": {},
   "outputs": [],
   "source": [
    "'Hello, world!'[1] --- > 'e'\n",
    "'Hello, world!'[0:5]---->'Hello'\n",
    "'Hello, world!'[:5]--->'Hello'\n",
    "'Hello, world!'[3:]---->'lo, world!'"
   ]
  },
  {
   "cell_type": "markdown",
   "id": "6d01c2dc",
   "metadata": {},
   "source": [
    "7. What are the values of the following expressions?\n",
    "'Hello'.upper()\n",
    "'Hello'.upper().isupper()\n",
    "'Hello'.upper().lower()\n"
   ]
  },
  {
   "cell_type": "code",
   "execution_count": null,
   "id": "c739d860",
   "metadata": {},
   "outputs": [],
   "source": [
    "'Hello'.upper() - 'HELLO'\n",
    "'Hello'.upper().isupper() -- True\n",
    " 'Hello'.upper().lower()   ---'hello'\n"
   ]
  },
  {
   "cell_type": "markdown",
   "id": "775616f5",
   "metadata": {},
   "source": [
    "8. What are the values of the following expressions?\n",
    "'Remember, remember, the fifth of July.'.split()\n",
    "'-'.join('There can only one.'.split())\n"
   ]
  },
  {
   "cell_type": "code",
   "execution_count": null,
   "id": "8b4f29fd",
   "metadata": {},
   "outputs": [],
   "source": [
    "The split() method splits a string into a list.\n",
    "You can specify the separator, default separator is any whitespace.\n",
    "\n",
    "'Remember, remember, the fifth of July.'.split()--->['Remember,', 'remember,', 'the', 'fifth', 'of', 'July.']\n",
    "'-'.join('There can only one.'.split())--->'There-can-only-one.'"
   ]
  },
  {
   "cell_type": "markdown",
   "id": "74f63a3b",
   "metadata": {},
   "source": [
    "9. What are the methods for right-justifying, left-justifying, and centering a string?"
   ]
  },
  {
   "cell_type": "code",
   "execution_count": 2,
   "id": "5bf4f860",
   "metadata": {},
   "outputs": [
    {
     "data": {
      "text/plain": [
       "'centering a string'"
      ]
     },
     "execution_count": 2,
     "metadata": {},
     "output_type": "execute_result"
    }
   ],
   "source": [
    "s=\"right-justifying\"\n",
    "s.rjust(40,\"#\")\n",
    "\n",
    "s1=\"left-justifying\"\n",
    "s1.ljust(40,\"#\")\n",
    "\n",
    "s2=\"centering a string\"\n",
    "s2.center(10,\"$\")"
   ]
  },
  {
   "cell_type": "code",
   "execution_count": 3,
   "id": "b2f337a3",
   "metadata": {},
   "outputs": [
    {
     "data": {
      "text/plain": [
       "'########################right-justifying'"
      ]
     },
     "execution_count": 3,
     "metadata": {},
     "output_type": "execute_result"
    }
   ],
   "source": [
    "s=\"right-justifying\"\n",
    "s.rjust(40,\"#\")"
   ]
  },
  {
   "cell_type": "code",
   "execution_count": 4,
   "id": "d8687968",
   "metadata": {},
   "outputs": [
    {
     "data": {
      "text/plain": [
       "'left-justifying#########################'"
      ]
     },
     "execution_count": 4,
     "metadata": {},
     "output_type": "execute_result"
    }
   ],
   "source": [
    "s1=\"left-justifying\"\n",
    "s1.ljust(40,\"#\")"
   ]
  },
  {
   "cell_type": "code",
   "execution_count": 6,
   "id": "28e3c73b",
   "metadata": {},
   "outputs": [
    {
     "data": {
      "text/plain": [
       "'$$$$$$$$$$$centering a string$$$$$$$$$$$'"
      ]
     },
     "execution_count": 6,
     "metadata": {},
     "output_type": "execute_result"
    }
   ],
   "source": [
    "s2=\"centering a string\"\n",
    "s2.center(40,\"$\")"
   ]
  },
  {
   "cell_type": "markdown",
   "id": "93638fd1",
   "metadata": {},
   "source": [
    "10. What is the best way to remove whitespace characters from the start or end?"
   ]
  },
  {
   "cell_type": "code",
   "execution_count": null,
   "id": "7ec4bef9",
   "metadata": {},
   "outputs": [],
   "source": [
    "The Python String strip() method is part of the built-in function available in python. \n",
    "The function will remove given characters from the start and end of the original string.\n",
    "This function is very helpful in removing the whitespaces at the start \n",
    "and end of the given string."
   ]
  }
 ],
 "metadata": {
  "kernelspec": {
   "display_name": "Python 3 (ipykernel)",
   "language": "python",
   "name": "python3"
  },
  "language_info": {
   "codemirror_mode": {
    "name": "ipython",
    "version": 3
   },
   "file_extension": ".py",
   "mimetype": "text/x-python",
   "name": "python",
   "nbconvert_exporter": "python",
   "pygments_lexer": "ipython3",
   "version": "3.9.7"
  }
 },
 "nbformat": 4,
 "nbformat_minor": 5
}
