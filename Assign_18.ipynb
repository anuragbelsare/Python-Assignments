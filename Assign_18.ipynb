{
 "cells": [
  {
   "cell_type": "code",
   "execution_count": null,
   "id": "53852edc",
   "metadata": {},
   "outputs": [],
   "source": [
    "\n"
   ]
  },
  {
   "cell_type": "code",
   "execution_count": 15,
   "id": "5201b3cb",
   "metadata": {},
   "outputs": [
    {
     "name": "stdout",
     "output_type": "stream",
     "text": [
      "Open 9-5 daily\n"
     ]
    },
    {
     "data": {
      "text/plain": [
       "False"
      ]
     },
     "execution_count": 15,
     "metadata": {},
     "output_type": "execute_result"
    }
   ],
   "source": [
    "\"\"\"1. Create a zoo.py file first. \n",
    "Define the hours() function, which prints the string 'Open 9-5 daily'. \n",
    "Then, use the interactive interpreter to import the zoo module and call its hours() function.\"\"\"\n",
    "\n",
    "\n",
    "# import code and InteractiveInterpreter\n",
    "import code\n",
    "from code import InteractiveInterpreter\n",
    "\n",
    "source = 'import zoo;zoo.hours()'\n",
    "compile_code = code.compile_command(source)\n",
    "\n",
    "# Using InteractiveInterpreter.runcode() method\n",
    "InteractiveInterpreter().runcode(compile_code)\n",
    "\n"
   ]
  },
  {
   "cell_type": "code",
   "execution_count": 13,
   "id": "bc0e33bb",
   "metadata": {},
   "outputs": [
    {
     "name": "stdout",
     "output_type": "stream",
     "text": [
      "Open 9-5 daily\n"
     ]
    }
   ],
   "source": [
    "#2. In the interactive interpreter, import the zoo module as menagerie and call its hours() function.\n",
    "\n",
    "\n",
    "# import code and InteractiveInterpreter\n",
    "import code\n",
    "from code import InteractiveInterpreter\n",
    "\n",
    "source = 'import zoo as menagerie;menagerie.hours()'\n",
    "compile_code = code.compile_command(source)\n",
    "\n",
    "# Using InteractiveInterpreter.runcode() method\n",
    "InteractiveInterpreter().runcode(compile_code)"
   ]
  },
  {
   "cell_type": "code",
   "execution_count": 17,
   "id": "c4dc461e",
   "metadata": {},
   "outputs": [
    {
     "name": "stdout",
     "output_type": "stream",
     "text": [
      "Open 9-5 daily\n"
     ]
    }
   ],
   "source": [
    "#3. Using the interpreter, explicitly import and call the hours() function from zoo.\n",
    "from zoo import hours\n",
    "hours()"
   ]
  },
  {
   "cell_type": "code",
   "execution_count": 18,
   "id": "cbaf4582",
   "metadata": {},
   "outputs": [
    {
     "name": "stdout",
     "output_type": "stream",
     "text": [
      "Open 9-5 daily\n"
     ]
    }
   ],
   "source": [
    "#4. Import the hours() function as info and call it.\n",
    "from zoo import hours as info\n",
    "info()"
   ]
  },
  {
   "cell_type": "code",
   "execution_count": 28,
   "id": "75287880",
   "metadata": {},
   "outputs": [
    {
     "name": "stdout",
     "output_type": "stream",
     "text": [
      "a 1\n",
      "b 2\n",
      "c 3\n",
      "d 4\n"
     ]
    }
   ],
   "source": [
    "#5. Create a plain dictionary with the key-value pairs 'a': 1, 'b': 2, and 'c': 3, and print it out.\n",
    "# A Python program to demonstrate working of OrderedDict(in python version below 3.6)\n",
    "\n",
    "d = {}\n",
    "d['a'] = 1\n",
    "d['b'] = 2\n",
    "d['c'] = 3\n",
    "d['d'] = 4\n",
    "\n",
    "for key, value in d.items():\n",
    "    print(key, value)\n",
    "\n"
   ]
  },
  {
   "cell_type": "code",
   "execution_count": 25,
   "id": "25fc1fcf",
   "metadata": {},
   "outputs": [
    {
     "name": "stdout",
     "output_type": "stream",
     "text": [
      "a 1\n",
      "b 2\n",
      "c 3\n",
      "d 4\n"
     ]
    }
   ],
   "source": [
    "#6.Make an OrderedDict called fancy from the same pairs listed in 5 and print it. Did it print in the same order as plain?\n",
    "from collections import OrderedDict\n",
    "\n",
    "od = OrderedDict()\n",
    "od['a'] = 1\n",
    "od['b'] = 2\n",
    "od['c'] = 3\n",
    "od['d'] = 4\n",
    " \n",
    "for key, value in od.items():\n",
    "    print(key, value)\n",
    "\n"
   ]
  },
  {
   "cell_type": "code",
   "execution_count": 34,
   "id": "b51a2f0d",
   "metadata": {},
   "outputs": [
    {
     "name": "stdout",
     "output_type": "stream",
     "text": [
      "['something for a']\n"
     ]
    }
   ],
   "source": [
    "#7. Make a default dictionary called dict_of_lists and pass it the argument list. \n",
    "#Make the list dict_of_lists['a'] and append the value 'something for a' to it in one assignment. \n",
    "#Print dict_of_lists['a'].\n",
    "from collections import defaultdict\n",
    "dict_of_lists = defaultdict(list)\n",
    "dict_of_lists['a'].append('something for a')\n",
    "print(dict_of_lists['a'])"
   ]
  },
  {
   "cell_type": "code",
   "execution_count": null,
   "id": "1c8129ac",
   "metadata": {},
   "outputs": [],
   "source": []
  }
 ],
 "metadata": {
  "kernelspec": {
   "display_name": "Python 3 (ipykernel)",
   "language": "python",
   "name": "python3"
  },
  "language_info": {
   "codemirror_mode": {
    "name": "ipython",
    "version": 3
   },
   "file_extension": ".py",
   "mimetype": "text/x-python",
   "name": "python",
   "nbconvert_exporter": "python",
   "pygments_lexer": "ipython3",
   "version": "3.9.7"
  }
 },
 "nbformat": 4,
 "nbformat_minor": 5
}
