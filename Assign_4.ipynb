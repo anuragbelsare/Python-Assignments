{
 "cells": [
  {
   "cell_type": "code",
   "execution_count": null,
   "id": "1cefaba0",
   "metadata": {},
   "outputs": [],
   "source": [
    "1. What exactly is []?\n",
    "    \n",
    "    [] - creating a new list without any elements..list is a collection that can store dynamic datas\n",
    "    "
   ]
  },
  {
   "cell_type": "code",
   "execution_count": null,
   "id": "8ef92ce7",
   "metadata": {},
   "outputs": [],
   "source": [
    " 2. In a list of values stored in a variable called spam, how would you assign the value 'hello' as the third value?\n",
    "(Assume [2, 4, 6, 8, 10] are in spam.)\n",
    "\n",
    "spam = [2, 4, 6, 8, 10]\n",
    "spam[2]=\"Hello\"    "
   ]
  },
  {
   "cell_type": "code",
   "execution_count": null,
   "id": "f9b2c26f",
   "metadata": {},
   "outputs": [],
   "source": [
    " Let's pretend the spam includes the list ['a', 'b', 'c', 'd'] for the next three queries.\n",
    "spam.append(['a', 'b', 'c', 'd']) \n",
    "\n",
    "3. What is the value of spam[int(int('3' * 2) / 11)]?\n",
    "   spam[int(int('3'*2)/11)]  \n",
    "   the value is d\n",
    "\n",
    "4. What is the value of spam[-1]?\n",
    "   spam[-1] is d\n",
    "   \n",
    "5. What is the value of spam[:2]?   \n",
    "    ['a','b']\n",
    "    \n"
   ]
  },
  {
   "cell_type": "code",
   "execution_count": null,
   "id": "4a863656",
   "metadata": {},
   "outputs": [],
   "source": [
    "Let's pretend bacon has the list [3.14, 'cat', 11, 'cat', True] for the next three questions.\n",
    "\n",
    "6. What is the value of bacon.index('cat')?\n",
    "    bacon.index('cat')=1 ---> it gives the index of the first occurence only\n",
    "    \n",
    "7. How does bacon.append(99) change the look of the list value in bacon?\n",
    "    bacon.append(99)\n",
    "    [3.14, 'cat', 11, 'cat', True,99]\n",
    "\n",
    "8. How does bacon.remove('cat') change the look of the list in bacon?\n",
    "    [3.14, 11, 'cat', True, 99] --- > it removes the first occurence of the obj\n",
    "    "
   ]
  },
  {
   "cell_type": "code",
   "execution_count": null,
   "id": "fd12ec16",
   "metadata": {},
   "outputs": [],
   "source": [
    "9. What are the list concatenation and list replication operators?\n",
    "    The operator for list concatenation is +, while the operator for replication is *\n",
    "    list1=[1,2,3,4,5]\n",
    "    list2=[\"cat\",\"bat\",\"hat\"]\n",
    "    \n",
    "    l=list1+list2 --->[1, 2, 3, 4, 5, 'cat', 'bat', 'hat']--->(concatenate two lists)\n",
    "    \n",
    "    l1=list1*2-------->[1, 2, 3, 4, 5, 1, 2, 3, 4, 5]---->replicate the list\n"
   ]
  },
  {
   "cell_type": "code",
   "execution_count": null,
   "id": "b47de9ef",
   "metadata": {},
   "outputs": [],
   "source": [
    "10. What is difference between the list methods append() and insert()?\n",
    "\n",
    "    The difference is that with append, you just add a new entry at the end of the list.\n",
    "    With insert(position, new_entry)    you can create a new entry exactly in the position you want.\n",
    "    \n",
    "    list1=[1,2,3,4,5]\n",
    "    list1.append(6)--->[1,2,3,4,5,6]---adds the element to the end\n",
    "    \n",
    "    list1.insert(3,\"nos\")----->[1, 2, 3, 'nos', 4, 5, 6]---->insert the value at the specified position.\n",
    "    "
   ]
  },
  {
   "cell_type": "code",
   "execution_count": null,
   "id": "a0ee213d",
   "metadata": {},
   "outputs": [],
   "source": [
    "What are the two methods for removing items from a list?\n",
    "    \n",
    "    list1.pop(index)-- The pop() method removes an element from the list based on the index given\n",
    "    list1.remove()-- It helps to remove the very first given element matching from the list.\n",
    "    \n",
    "   "
   ]
  },
  {
   "cell_type": "code",
   "execution_count": null,
   "id": "fef0a3b7",
   "metadata": {},
   "outputs": [],
   "source": [
    "12. Describe how list values and string values are identical.\n",
    "    The similarity between Lists and Strings in Python is that both are sequences.\n",
    "    The differences between them are that firstly, Lists are mutable but Strings are immutable.\n",
    "    Secondly, elements of a list can be of different types \n",
    "    whereas a String only contains characters that are all of String type."
   ]
  },
  {
   "cell_type": "code",
   "execution_count": null,
   "id": "b12f4e49",
   "metadata": {},
   "outputs": [],
   "source": [
    "14. How do you type a tuple value that only contains the integer 42?\n",
    "    t=(42)"
   ]
  },
  {
   "cell_type": "code",
   "execution_count": null,
   "id": "92666f63",
   "metadata": {},
   "outputs": [],
   "source": [
    "15. How do you get a list value's tuple form?\n",
    "    l=[1,2,3,]\n",
    "    t=tuple(l)"
   ]
  },
  {
   "cell_type": "code",
   "execution_count": null,
   "id": "b8843a12",
   "metadata": {},
   "outputs": [],
   "source": [
    "16. Variables that \"contain\" list values are not necessarily lists themselves. Instead, what do they contain?\n",
    "\n",
    "Variables will contain references to list values rather than list values themselves.\n",
    "But for strings and integer values, variables simply contain the string or integer value.\n",
    "Python uses references whenever variables must store values of mutable data types, such as lists or dictionaries.\n"
   ]
  },
  {
   "cell_type": "code",
   "execution_count": null,
   "id": "2412f388",
   "metadata": {},
   "outputs": [],
   "source": [
    "17. How do you distinguish between copy.copy() and copy.deepcopy()?\n",
    "\n",
    "    Deep copy is a process in which the copying process occurs recursively.\n",
    "    It means first constructing a new collection object and then recursively populating it\n",
    "    with copies of the child objects found in the original. \n",
    "    In case of deep copy, a copy of object is copied in other object.\n",
    "    It means that any changes made to a copy of object do not reflect in the original object.\n",
    "    In python, this is implemented using “deepcopy()” function.\n",
    "    \n",
    "    A shallow copy means constructing a new collection object and then populating it\n",
    "    with references to the child objects found in the original. \n",
    "    The copying process does not recurse and therefore won’t create copies of the child objects themselves.\n",
    "    In case of shallow copy, a reference of object is copied in other object. \n",
    "    It means that any changes made to a copy of object do reflect in the original object.\n",
    "    In python, this is implemented using “copy()” function.\n",
    "    "
   ]
  }
 ],
 "metadata": {
  "kernelspec": {
   "display_name": "Python 3 (ipykernel)",
   "language": "python",
   "name": "python3"
  },
  "language_info": {
   "codemirror_mode": {
    "name": "ipython",
    "version": 3
   },
   "file_extension": ".py",
   "mimetype": "text/x-python",
   "name": "python",
   "nbconvert_exporter": "python",
   "pygments_lexer": "ipython3",
   "version": "3.9.7"
  }
 },
 "nbformat": 4,
 "nbformat_minor": 5
}
