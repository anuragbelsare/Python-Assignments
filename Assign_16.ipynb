{
 "cells": [
  {
   "cell_type": "code",
   "execution_count": null,
   "id": "f6d041e8",
   "metadata": {},
   "outputs": [],
   "source": [
    "\n"
   ]
  },
  {
   "cell_type": "code",
   "execution_count": 7,
   "id": "543a7360",
   "metadata": {},
   "outputs": [
    {
     "name": "stdout",
     "output_type": "stream",
     "text": [
      "Enter your Birth Year :1980\n",
      "[1980, 1981, 1982, 1983, 1984, 1985]\n"
     ]
    }
   ],
   "source": [
    " \"\"\"1. Create a list called years_list, starting with the year of your birth, \n",
    "and each year thereafter until the year of your fifth birthday. \n",
    "For example, if you were born in 1980. the list would be years_list = [1980, 1981, 1982, 1983, 1984, 1985].\"\"\"\n",
    "\n",
    "year_lists=[]\n",
    "year_lists.append(int(input(\"Enter your Birth Year :\")))\n",
    "\n",
    "for i in range(5):\n",
    "    year_lists.append(year_lists[i]+1)\n",
    "print(year_lists)    \n",
    "\n",
    "\n"
   ]
  },
  {
   "cell_type": "code",
   "execution_count": 12,
   "id": "ab07cda8",
   "metadata": {},
   "outputs": [
    {
     "name": "stdout",
     "output_type": "stream",
     "text": [
      "Third Birthday : 1983\n"
     ]
    }
   ],
   "source": [
    "\"\"\"2. In which year in years_list was your third birthday? Remember, you were 0 years of age for your first year.\"\"\"\n",
    "\n",
    "print(f\"Third Birthday : {year_lists[3]}\")"
   ]
  },
  {
   "cell_type": "code",
   "execution_count": 13,
   "id": "77f15836",
   "metadata": {},
   "outputs": [
    {
     "name": "stdout",
     "output_type": "stream",
     "text": [
      "1985\n"
     ]
    }
   ],
   "source": [
    "\"\"\"3.In the years list, which year were you the oldest?\"\"\"\n",
    "\n",
    "print(max(year_lists))"
   ]
  },
  {
   "cell_type": "code",
   "execution_count": 16,
   "id": "65dbdb90",
   "metadata": {},
   "outputs": [],
   "source": [
    "\"\"\"4. Make a list called things with these three strings as elements: \"mozzarella\", \"cinderella\", \"salmonella\".\n",
    "\"\"\"\n",
    "things=[\"mozzarella\", \"cinderella\", \"salmonella\"]"
   ]
  },
  {
   "cell_type": "code",
   "execution_count": 19,
   "id": "9536f529",
   "metadata": {},
   "outputs": [
    {
     "name": "stdout",
     "output_type": "stream",
     "text": [
      "['mozzarella', 'cinderella', 'salmonella']\n",
      "['mozzarella', 'Cinderella', 'salmonella']\n"
     ]
    }
   ],
   "source": [
    "\"\"\"5. Capitalize the element in things that refers to a person and then print the list.\n",
    "Did it change the element in the list?\n",
    "\"\"\"\n",
    "things[1].capitalize()\n",
    "print(things)\n",
    "\n",
    "#No,it is not\n",
    "things[1]=things[1].capitalize()\n",
    "print(things)\n",
    "\n"
   ]
  },
  {
   "cell_type": "code",
   "execution_count": 56,
   "id": "0d623e1f",
   "metadata": {},
   "outputs": [
    {
     "name": "stdout",
     "output_type": "stream",
     "text": [
      "['Groucho,Chico,Harpo.']\n"
     ]
    }
   ],
   "source": [
    "\"\"\"6. Make a surprise list with the elements \"Groucho,\" \"Chico,\" and \"Harpo.\"\n",
    "\"\"\"\n",
    "\n",
    "surprise=[\"Groucho,\" \"Chico,\" \"Harpo.\"]\n",
    "print(surprise)"
   ]
  },
  {
   "cell_type": "code",
   "execution_count": 59,
   "id": "b004c629",
   "metadata": {},
   "outputs": [
    {
     "name": "stdout",
     "output_type": "stream",
     "text": [
      "['groucho,chico,harpo.']\n",
      "['.oprah,ocihc,ohcuorg']\n",
      "['.oprah,ocihc,ohcuorg']\n"
     ]
    }
   ],
   "source": [
    "\"\"\"7. Lowercase the last element of the surprise list, reverse it, and then  capitailze it.\n",
    "\"\"\"\n",
    "l=len(surprise)  #length of the list..to get the last element\n",
    "\n",
    "#Lowercase the last element of the surprise list\n",
    "surprise[l-1]=surprise[l-1].lower()\n",
    "print(surprise)\n",
    "\n",
    " #reverse it\n",
    "s=surprise[l-1]\n",
    "surprise[l-1]=s[-1::-1]\n",
    "print(surprise)\n",
    "\n",
    "#capitalize it\n",
    "surprise[l-1]=surprise[l-1].capitalize()\n",
    "print(surprise)\n",
    "\n"
   ]
  },
  {
   "cell_type": "code",
   "execution_count": 89,
   "id": "6751de9e",
   "metadata": {},
   "outputs": [],
   "source": [
    "\"\"\"8. Make an English-to-French dictionary called e2f and print it.\n",
    "Here are your starter words: dog is chien, cat is chat, and walrus is morse.\n",
    "\"\"\"\n",
    "\n",
    "e2f={\"dog\":\"chien\",\"cat\":\"chat\",\"walrus\":\"morse\"}\n"
   ]
  },
  {
   "cell_type": "code",
   "execution_count": 64,
   "id": "3fa9d570",
   "metadata": {},
   "outputs": [
    {
     "name": "stdout",
     "output_type": "stream",
     "text": [
      "morse\n"
     ]
    }
   ],
   "source": [
    "\"\"\"9. Write the French word for walrus in your three-word dictionary e2f.\"\"\"\n",
    "print(e2f[\"walrus\"])\n"
   ]
  },
  {
   "cell_type": "code",
   "execution_count": 93,
   "id": "a0924400",
   "metadata": {},
   "outputs": [
    {
     "name": "stdout",
     "output_type": "stream",
     "text": [
      "{'chien': 'dog', 'chat': 'cat', 'morse': 'walrus'}\n"
     ]
    }
   ],
   "source": [
    "\"\"\"10. Make a French-to-English dictionary called f2e from e2f. Use the items method.\"\"\"\n",
    "f2e={}\n",
    "items=e2f.items()\n",
    "for i,j in items :\n",
    "    f2e[j]=i\n",
    "print(f2e)    "
   ]
  },
  {
   "cell_type": "code",
   "execution_count": 94,
   "id": "1b403220",
   "metadata": {},
   "outputs": [
    {
     "name": "stdout",
     "output_type": "stream",
     "text": [
      "dog\n"
     ]
    }
   ],
   "source": [
    "#11. Print the English version of the French word chien using f2e.\n",
    "\n",
    "print(f2e['chien'])"
   ]
  },
  {
   "cell_type": "code",
   "execution_count": 97,
   "id": "fe8c642c",
   "metadata": {},
   "outputs": [
    {
     "name": "stdout",
     "output_type": "stream",
     "text": [
      "{'dog', 'cat', 'walrus'}\n"
     ]
    }
   ],
   "source": [
    "#12. Make and print a set of English words from the keys in e2f.\n",
    "eng_words=set(e2f.keys())\n",
    "print(eng_words)"
   ]
  },
  {
   "cell_type": "code",
   "execution_count": 101,
   "id": "60dac2e2",
   "metadata": {},
   "outputs": [
    {
     "data": {
      "text/plain": [
       "{'cats': ['Henri', 'Grumpy', 'Lucy'], 'octopi': '', 'emus': ''}"
      ]
     },
     "execution_count": 101,
     "metadata": {},
     "output_type": "execute_result"
    }
   ],
   "source": [
    "#13. Make a multilevel dictionary called life. \n",
    "#Use these strings for the topmost keys: 'animals', 'plants', and 'other'.\n",
    "#Make the 'animals' key refer to another dictionary with the keys 'cats', 'octopi', and 'emus'. \n",
    "#Make the 'cats' key refer to a list of strings with the values 'Henri', 'Grumpy', and 'Lucy'. \n",
    "#Make all the other keys refer to empty dictionaries.\n",
    "\n",
    "life={\"animals\":{\"cats\":[\"Henri\",\"Grumpy\",\"Lucy\"],\"octopi\":\"\",\"emus\":\"\"},\"plants\":\"\",\"other\":\"\"}\n",
    "\n"
   ]
  },
  {
   "cell_type": "code",
   "execution_count": 102,
   "id": "8cebaf10",
   "metadata": {},
   "outputs": [
    {
     "name": "stdout",
     "output_type": "stream",
     "text": [
      "dict_keys(['animals', 'plants', 'other'])\n"
     ]
    }
   ],
   "source": [
    "#14. Print the top-level keys of life.\n",
    "print(life.keys())"
   ]
  },
  {
   "cell_type": "code",
   "execution_count": 103,
   "id": "6b091250",
   "metadata": {},
   "outputs": [
    {
     "name": "stdout",
     "output_type": "stream",
     "text": [
      "dict_keys(['cats', 'octopi', 'emus'])\n"
     ]
    }
   ],
   "source": [
    "#15. Print the keys for life['animals'].\n",
    "print(life[\"animals\"].keys())"
   ]
  },
  {
   "cell_type": "code",
   "execution_count": 106,
   "id": "92357c03",
   "metadata": {},
   "outputs": [
    {
     "name": "stdout",
     "output_type": "stream",
     "text": [
      "['Henri', 'Grumpy', 'Lucy']\n"
     ]
    }
   ],
   "source": [
    "#16. Print the values for life['animals']['cats']\n",
    "print(life['animals']['cats'][::])"
   ]
  },
  {
   "cell_type": "code",
   "execution_count": null,
   "id": "0fc45cae",
   "metadata": {},
   "outputs": [],
   "source": []
  }
 ],
 "metadata": {
  "kernelspec": {
   "display_name": "Python 3 (ipykernel)",
   "language": "python",
   "name": "python3"
  },
  "language_info": {
   "codemirror_mode": {
    "name": "ipython",
    "version": 3
   },
   "file_extension": ".py",
   "mimetype": "text/x-python",
   "name": "python",
   "nbconvert_exporter": "python",
   "pygments_lexer": "ipython3",
   "version": "3.9.7"
  }
 },
 "nbformat": 4,
 "nbformat_minor": 5
}
