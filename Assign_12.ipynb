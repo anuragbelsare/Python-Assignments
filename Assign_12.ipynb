{
 "cells": [
  {
   "cell_type": "markdown",
   "id": "c9af7f52",
   "metadata": {},
   "source": [
    "##### 1. In what modes should the PdfFileReader() and PdfFileWriter() File objects will be opened?"
   ]
  },
  {
   "cell_type": "code",
   "execution_count": null,
   "id": "fb188638",
   "metadata": {},
   "outputs": [],
   "source": [
    "PdfFileReader() needs to be opened in read-binary mode by passing 'rb' as the second argument to open(). \n",
    "Likewise, the File object passed to PyPDF2. PdfFileWriter() needs to be opened in write-binary mode with 'wb'."
   ]
  },
  {
   "cell_type": "markdown",
   "id": "6756dc1d",
   "metadata": {},
   "source": [
    "##### 2. From a PdfFileReader object, how do you get a Page object for page 5?"
   ]
  },
  {
   "cell_type": "code",
   "execution_count": null,
   "id": "ad5b7ab1",
   "metadata": {},
   "outputs": [],
   "source": [
    "To extract text from a page, you need to get a Page object, \n",
    "which represents a single page of a PDF, from a PdfFileReader object. \n",
    "You can get a Page object by calling the getPage(5) method  on a PdfFileReader object \n",
    "and passing it the page number of the page you are interested in"
   ]
  },
  {
   "cell_type": "markdown",
   "id": "1372b3ca",
   "metadata": {},
   "source": [
    "##### 3. What PdfFileReader variable stores the number of pages in the PDF document?"
   ]
  },
  {
   "cell_type": "code",
   "execution_count": null,
   "id": "bccc724e",
   "metadata": {},
   "outputs": [],
   "source": [
    "The total number of pages in the document is stored in the numPages attribute of a PdfFileReader object"
   ]
  },
  {
   "cell_type": "markdown",
   "id": "ae8eb2fe",
   "metadata": {},
   "source": [
    "##### 4. If a PdfFileReader object’s PDF is encrypted with the password swordfish,\n",
    "what must you do before you can obtain Page objects from it?"
   ]
  },
  {
   "cell_type": "code",
   "execution_count": null,
   "id": "f07159f3",
   "metadata": {},
   "outputs": [],
   "source": [
    "we have decrypt the file first by PdfFilereader object module decrypt()\n",
    "\n",
    "import PyPDF2\n",
    "\n",
    "ENCRYPTED_FILE_PATH = './files/executive_order_encrypted.pdf'\n",
    "\n",
    "with open(ENCRYPTED_FILE_PATH, mode='rb') as f:        \n",
    "    reader = PyPDF2.PdfFileReader(f)\n",
    "    if reader.isEncrypted:\n",
    "        reader.decrypt('swordfish')\n",
    "        print(f\"Number of page: {reader.getNumPages()}\")"
   ]
  },
  {
   "cell_type": "markdown",
   "id": "2de29019",
   "metadata": {},
   "source": [
    "5. What methods do you use to rotate a page?\n"
   ]
  },
  {
   "cell_type": "code",
   "execution_count": null,
   "id": "566b8d5d",
   "metadata": {},
   "outputs": [],
   "source": [
    "We get page object by getPage() method of pdf reader class. \n",
    "Now, we rotate the page by rotateClockwise() method of page object class."
   ]
  },
  {
   "cell_type": "markdown",
   "id": "9fc82878",
   "metadata": {},
   "source": [
    "##### 6. What is the difference between a Run object and a Paragraph object"
   ]
  },
  {
   "cell_type": "code",
   "execution_count": null,
   "id": "52a403e4",
   "metadata": {},
   "outputs": [],
   "source": [
    "Paragraph objects ... Append a run to this paragraph containing text\n",
    "and having character style identified by style ID style. text can contain tab ( \\t ) characters,\n",
    "which are converted to the appropriate XML form for a tab.\n",
    "\n",
    " A run is the object most closely associated with inline content; text, pictures, \n",
    "and other items that are flowed between the block-item boundaries within a paragraph.\n",
    "\n",
    "Each Paragraph object also has a runs attribute that is a list of Run objects. \n",
    "Run objects also have a text attribute, containing just the text in that particular run."
   ]
  },
  {
   "cell_type": "markdown",
   "id": "4915b5db",
   "metadata": {},
   "source": [
    "##### 7. How do you obtain a list of Paragraph objects for a Document object that’s stored in a variable named doc?\n"
   ]
  },
  {
   "cell_type": "code",
   "execution_count": null,
   "id": "241c426b",
   "metadata": {},
   "outputs": [],
   "source": [
    "len(doc.paragraphs)\n",
    "\n"
   ]
  },
  {
   "cell_type": "markdown",
   "id": "3996e3e7",
   "metadata": {},
   "source": [
    "##### 8. What type of object has bold, underline, italic, strike, and outline variables?"
   ]
  },
  {
   "cell_type": "code",
   "execution_count": null,
   "id": "f162e5f5",
   "metadata": {},
   "outputs": [],
   "source": [
    "Run Object---Text Attribute"
   ]
  },
  {
   "cell_type": "markdown",
   "id": "03c7f63a",
   "metadata": {},
   "source": [
    "##### 9. What is the difference between False, True, and None for the bold variable?"
   ]
  },
  {
   "cell_type": "code",
   "execution_count": null,
   "id": "5c1be357",
   "metadata": {},
   "outputs": [],
   "source": [
    "if we set bold=True....it will make the text style in bold\n",
    "            bold=False...it wont make the text style in bold\n",
    "            bold-None ---its default value as False"
   ]
  },
  {
   "cell_type": "markdown",
   "id": "eb61e94d",
   "metadata": {},
   "source": [
    "##### 10. How do you create a Document object for a new Word document?"
   ]
  },
  {
   "cell_type": "code",
   "execution_count": null,
   "id": "2d977f13",
   "metadata": {},
   "outputs": [],
   "source": [
    "import docx\n",
    "doc = docx.Document('demo.docx')"
   ]
  },
  {
   "cell_type": "markdown",
   "id": "6a9e7cfe",
   "metadata": {},
   "source": [
    "##### 11. How do you add a paragraph with the text \n",
    "'Hello, there!' to a Document object stored in a variable named doc?"
   ]
  },
  {
   "cell_type": "code",
   "execution_count": null,
   "id": "0916c9c8",
   "metadata": {},
   "outputs": [],
   "source": [
    "import docx\n",
    " doc = docx.Document()\n",
    "doc.add_paragraph('Hello, there!')\n",
    ">>> doc.save('helloworld.docx')"
   ]
  },
  {
   "cell_type": "markdown",
   "id": "fa676b94",
   "metadata": {},
   "source": [
    "##### 12. What integers represent the levels of headings available in Word documents?"
   ]
  },
  {
   "cell_type": "code",
   "execution_count": null,
   "id": "2ffc8df8",
   "metadata": {},
   "outputs": [],
   "source": [
    "level: It is an integer number in the range 0-9. \n",
    "When the level is set to 0, the string is printed as the title of the document.\n",
    "For all other values it prints a heading. \n",
    "The size of heading decreases as the level increases. If no level is set, by default its value is always 1."
   ]
  }
 ],
 "metadata": {
  "kernelspec": {
   "display_name": "Python 3 (ipykernel)",
   "language": "python",
   "name": "python3"
  },
  "language_info": {
   "codemirror_mode": {
    "name": "ipython",
    "version": 3
   },
   "file_extension": ".py",
   "mimetype": "text/x-python",
   "name": "python",
   "nbconvert_exporter": "python",
   "pygments_lexer": "ipython3",
   "version": "3.9.7"
  }
 },
 "nbformat": 4,
 "nbformat_minor": 5
}
