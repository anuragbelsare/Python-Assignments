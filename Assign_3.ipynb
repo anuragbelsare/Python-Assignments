{
 "cells": [
  {
   "cell_type": "markdown",
   "id": "d58aab19",
   "metadata": {},
   "source": [
    "1. Why are functions advantageous to have in your programs?"
   ]
  },
  {
   "cell_type": "code",
   "execution_count": null,
   "id": "7d271e61",
   "metadata": {},
   "outputs": [],
   "source": [
    "A function is a block of organized, reusable code that is used to perform a single, related action. \n",
    "Functions provide better modularity for your application and a high degree of code reusing.\n",
    "Functions reduce the need for duplicate code. This makes programs shorter, easier to read, and easier to update.\n",
    "\n"
   ]
  },
  {
   "cell_type": "markdown",
   "id": "03bb84e0",
   "metadata": {},
   "source": [
    "2. When does the code in a function run: when it's specified or when it's called?"
   ]
  },
  {
   "cell_type": "code",
   "execution_count": null,
   "id": "1ccef070",
   "metadata": {},
   "outputs": [],
   "source": [
    "A function is a set of code that performs a specific task and can be used whenever needed just by calling it. \n",
    "\n",
    "While using multiple function calls or recursion, \n",
    "the concept of a function call is very necessary to be known, for better understanding of the code. "
   ]
  },
  {
   "cell_type": "markdown",
   "id": "41422696",
   "metadata": {},
   "source": [
    "3 .What statement creates a function"
   ]
  },
  {
   "cell_type": "code",
   "execution_count": null,
   "id": "7068f036",
   "metadata": {},
   "outputs": [],
   "source": [
    "Function blocks begin with the keyword def followed by the function name and parentheses ( ( ) ).\n",
    "\n",
    "Any input parameters or arguments should be placed within these parentheses. \n",
    "You can also define parameters inside these parentheses.\n",
    "\n",
    "The first statement of a function can be an optional statement - the documentation string of the function or docstring.\n",
    "\n",
    "The code block within every function starts with a colon (:) and is indented.\n",
    "\n",
    "The statement return [expression] exits a function, optionally passing back an expression to the caller.\n",
    "A return statement with no arguments is the same as return None.\n",
    "\n",
    "def functionname( parameters ):\n",
    "   \"function_docstring\"\n",
    "    function_suite\n",
    "   return [expression]"
   ]
  },
  {
   "cell_type": "markdown",
   "id": "70ff7516",
   "metadata": {},
   "source": [
    "4. What is the difference between a function and a function call?"
   ]
  },
  {
   "cell_type": "code",
   "execution_count": null,
   "id": "98d8e5e6",
   "metadata": {},
   "outputs": [],
   "source": [
    "A function call means invoking or calling that function.\n",
    "Unless a function is called there is no use of that function. \n",
    "So the difference between the function and function call is, \n",
    "A function is procedure to achieve a particular result while function call is using this function to achive that task.\n",
    "\n",
    "def add_nos(n1,n2) :-----------function definition\n",
    "    ........\n",
    "    ........\n",
    "    n1+n2\n",
    "    return \n",
    "\n",
    "add_nos(9,8)--------------function call"
   ]
  },
  {
   "cell_type": "markdown",
   "id": "46a4c607",
   "metadata": {},
   "source": [
    "5. How many global scopes are there in a Python program? How many local scopes?"
   ]
  },
  {
   "cell_type": "code",
   "execution_count": null,
   "id": "3dc66934",
   "metadata": {},
   "outputs": [],
   "source": []
  },
  {
   "cell_type": "markdown",
   "id": "9dacd83d",
   "metadata": {},
   "source": [
    "6. What happens to variables in a local scope when the function call returns?"
   ]
  },
  {
   "cell_type": "code",
   "execution_count": null,
   "id": "272966b9",
   "metadata": {},
   "outputs": [],
   "source": [
    "When the execution of the function terminates (returns), the local variables are destroyed.\n",
    "So it is not possible for a function to set some local variable to a value, complete its execution,\n",
    "and then when it is called again next time, recover the local variable."
   ]
  },
  {
   "cell_type": "markdown",
   "id": "d1679d5e",
   "metadata": {},
   "source": [
    "7. What is the concept of a return value? Is it possible to have a return value in an expression?"
   ]
  },
  {
   "cell_type": "code",
   "execution_count": null,
   "id": "6e43ffb8",
   "metadata": {},
   "outputs": [],
   "source": [
    "A return statement is used to end the execution of the function call and “returns” \n",
    "the result (value of the expression following the return keyword) to the caller.\n",
    "The statements after the return statements are not executed. \n",
    "If the return statement is without any expression, then the special value None is returned."
   ]
  },
  {
   "cell_type": "markdown",
   "id": "143f9e2f",
   "metadata": {},
   "source": [
    "8. If a function does not have a return statement, what is the return value of a call to that function?"
   ]
  },
  {
   "cell_type": "markdown",
   "id": "81989fef",
   "metadata": {},
   "source": [
    "If a function doesn't specify a return value, it returns None .\n"
   ]
  },
  {
   "cell_type": "markdown",
   "id": "c4793a35",
   "metadata": {},
   "source": [
    "9. How do you make a function variable refer to the global variable?"
   ]
  },
  {
   "cell_type": "code",
   "execution_count": null,
   "id": "24ceb073",
   "metadata": {},
   "outputs": [],
   "source": [
    "If you want to refer to a global variable in a function, \n",
    "you can use the global keyword to declare which variables are global.\n",
    "\n",
    "total = 100\n",
    "def func():\n",
    "    # refer to global variable 'total' inside function\n",
    "    global total\n",
    "    if total > 10:\n",
    "        total = 15\n",
    "print('Total = ', total)\n",
    "func()\n",
    "print('Total = ', total)"
   ]
  },
  {
   "cell_type": "markdown",
   "id": "a9f29874",
   "metadata": {},
   "source": [
    "10. What is the data type of None?"
   ]
  },
  {
   "cell_type": "code",
   "execution_count": null,
   "id": "5e38bcf0",
   "metadata": {},
   "outputs": [],
   "source": [
    "In Python, None keyword is an object, and it is a data type of the class NoneType .\n",
    "We can assign None to any variable, but you can not create other NoneType objects. \n",
    "All variables that are assigned None point to the same object. New instances of None are not created."
   ]
  },
  {
   "cell_type": "markdown",
   "id": "af191f9c",
   "metadata": {},
   "source": [
    "11. What does the sentence import areallyourpetsnamederic do?"
   ]
  },
  {
   "cell_type": "code",
   "execution_count": null,
   "id": "de4888af",
   "metadata": {},
   "outputs": [],
   "source": [
    " That import statement imports a module named areallyourpetsnamederic ."
   ]
  },
  {
   "cell_type": "markdown",
   "id": "bdceece8",
   "metadata": {},
   "source": [
    "12. If you had a bacon() feature in a spam module, what would you call it after importing spam?"
   ]
  },
  {
   "cell_type": "code",
   "execution_count": null,
   "id": "428af977",
   "metadata": {},
   "outputs": [],
   "source": [
    "import spam\n",
    "spam.bacon()"
   ]
  },
  {
   "cell_type": "markdown",
   "id": "fef7388f",
   "metadata": {},
   "source": [
    "13. What can you do to save a programme from crashing if it encounters an error?"
   ]
  },
  {
   "cell_type": "code",
   "execution_count": null,
   "id": "0d3a5218",
   "metadata": {},
   "outputs": [],
   "source": [
    "If an error occurs in a program, we don’t want the program to unexpectedly crash on the user.\n",
    "Instead, error handling can be used to notify the user of why the error occurred \n",
    "and gracefully exit the process that caused the error."
   ]
  },
  {
   "cell_type": "markdown",
   "id": "e642fd87",
   "metadata": {},
   "source": [
    "14. What is the purpose of the try clause? What is the purpose of the except clause?"
   ]
  },
  {
   "cell_type": "code",
   "execution_count": null,
   "id": "0f61d7a6",
   "metadata": {},
   "outputs": [],
   "source": [
    "The try block allows you to test a block of code for errors.\n",
    "The except block enables you to handle the error with a user-defined response."
   ]
  }
 ],
 "metadata": {
  "kernelspec": {
   "display_name": "Python 3 (ipykernel)",
   "language": "python",
   "name": "python3"
  },
  "language_info": {
   "codemirror_mode": {
    "name": "ipython",
    "version": 3
   },
   "file_extension": ".py",
   "mimetype": "text/x-python",
   "name": "python",
   "nbconvert_exporter": "python",
   "pygments_lexer": "ipython3",
   "version": "3.9.7"
  }
 },
 "nbformat": 4,
 "nbformat_minor": 5
}
