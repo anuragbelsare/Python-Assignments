{
 "cells": [
  {
   "cell_type": "code",
   "execution_count": 14,
   "metadata": {
    "collapsed": true
   },
   "outputs": [
    {
     "data": {
      "text/plain": "1"
     },
     "execution_count": 14,
     "metadata": {},
     "output_type": "execute_result"
    }
   ],
   "source": [
    "\"\"\"1. Given a sentence, return the number of words which have the same first and last letter.\n",
    "\n",
    "Examples\n",
    "\n",
    "count_same_ends(\"Pop! goes the balloon\") ➞ 1\n",
    "\n",
    "count_same_ends(\"And the crowd goes wild!\") ➞ 0\n",
    "\n",
    "count_same_ends(\"No I am not in a gang.\") ➞ 1\"\"\"\n",
    "\n",
    "def count_same_ends(sentence):\n",
    "    punc = '''!()-[]{};:'\"\\,<>./?@#$%^&*_~'''\n",
    "    for i in sentence :\n",
    "        if i in punc:\n",
    "            sentence=sentence.replace(i,\"\")\n",
    "\n",
    "    words_list=sentence.split(\" \")\n",
    "    count=0\n",
    "    for i in words_list :\n",
    "        if len(i) > 1:\n",
    "            if i[0].casefold()==i[-1].casefold():\n",
    "                count+=1\n",
    "\n",
    "    return count\n",
    "\n",
    "\n",
    "count_same_ends(\"Pop! goes the balloon\")"
   ]
  },
  {
   "cell_type": "code",
   "execution_count": 15,
   "outputs": [
    {
     "data": {
      "text/plain": "0"
     },
     "execution_count": 15,
     "metadata": {},
     "output_type": "execute_result"
    }
   ],
   "source": [
    "count_same_ends(\"And the crowd goes wild!\")"
   ],
   "metadata": {
    "collapsed": false,
    "pycharm": {
     "name": "#%%\n"
    }
   }
  },
  {
   "cell_type": "code",
   "execution_count": 16,
   "outputs": [
    {
     "data": {
      "text/plain": "1"
     },
     "execution_count": 16,
     "metadata": {},
     "output_type": "execute_result"
    }
   ],
   "source": [
    "count_same_ends(\"No I am not in a gang.\")"
   ],
   "metadata": {
    "collapsed": false,
    "pycharm": {
     "name": "#%%\n"
    }
   }
  },
  {
   "cell_type": "code",
   "execution_count": 110,
   "outputs": [
    {
     "data": {
      "text/plain": "'Svool dliow!'"
     },
     "execution_count": 110,
     "metadata": {},
     "output_type": "execute_result"
    }
   ],
   "source": [
    "\"\"\"2. The Atbash cipher is an encryption method in which each letter of a word is replaced with its \"mirror\" letter in the alphabet: A <=> Z; B <=> Y; C <=> X; etc.\n",
    "\n",
    "Create a function that takes a string and applies the Atbash cipher to it.\n",
    "\n",
    "Examples\n",
    "\n",
    "atbash(\"apple\") ➞ \"zkkov\"\n",
    "\n",
    "atbash(\"Hello world!\") ➞ \"Svool dliow!\"\n",
    "\n",
    "atbash(\"Christmas is the 25th of December\") ➞ \"Xsirhgnzh rh gsv 25gs lu Wvxvnyvi\"\n",
    "\"\"\"\n",
    "import string\n",
    "\n",
    "def atbash(given_string):\n",
    "\n",
    "    alphabets_lower=string.ascii_lowercase\n",
    "    alphabets_upper=string.ascii_uppercase\n",
    "\n",
    "    rev_alphabets_lower=alphabets_lower[::-1]\n",
    "    rev_alphabets_upper=alphabets_upper[::-1]\n",
    "\n",
    "    new_string=\"\"\n",
    "    punc = '''!()-[]{};:'\"\\,<>./?@#$%^&*_~'''\n",
    "\n",
    "    for i in given_string :\n",
    "        if i not in punc and i!=\" \" and not i.isnumeric():\n",
    "            if i.islower():\n",
    "                n=alphabets_lower.index(i)\n",
    "                n1=rev_alphabets_lower[n]\n",
    "\n",
    "            else:\n",
    "                n=alphabets_upper.index(i)\n",
    "                n1=rev_alphabets_upper[n]\n",
    "\n",
    "            new_string+=n1\n",
    "        else:\n",
    "            new_string+=i\n",
    "\n",
    "    return new_string\n",
    "\n",
    "atbash(\"Hello world!\")"
   ],
   "metadata": {
    "collapsed": false,
    "pycharm": {
     "name": "#%%\n"
    }
   }
  },
  {
   "cell_type": "code",
   "execution_count": 108,
   "outputs": [
    {
     "data": {
      "text/plain": "'zkkov'"
     },
     "execution_count": 108,
     "metadata": {},
     "output_type": "execute_result"
    }
   ],
   "source": [
    "atbash(\"apple\")"
   ],
   "metadata": {
    "collapsed": false,
    "pycharm": {
     "name": "#%%\n"
    }
   }
  },
  {
   "cell_type": "code",
   "execution_count": 111,
   "outputs": [
    {
     "data": {
      "text/plain": "'Xsirhgnzh rh gsv 25gs lu Wvxvnyvi'"
     },
     "execution_count": 111,
     "metadata": {},
     "output_type": "execute_result"
    }
   ],
   "source": [
    "atbash(\"Christmas is the 25th of December\")"
   ],
   "metadata": {
    "collapsed": false,
    "pycharm": {
     "name": "#%%\n"
    }
   }
  },
  {
   "cell_type": "code",
   "execution_count": 116,
   "outputs": [],
   "source": [
    "\"\"\"3. Create a class Employee that will take a full name as argument, as well as a set of none, one or more keywords. Each instance should have a name and a lastname attributes plus one more attribute for each of the keywords, if any.\n",
    "\n",
    "Examples\n",
    "\n",
    "john = Employee(\"John Doe\")\n",
    "mary = Employee(\"Mary Major\", salary=120000)\n",
    "richard = Employee(\"Richard Roe\", salary=110000, height=178)\n",
    "giancarlo = Employee(\"Giancarlo Rossi\", salary=115000, height=182, nationality=\"Italian\")\n",
    "\n",
    "john.name ➞ \"John\"\n",
    "mary.lastname ➞ \"Major\"\n",
    "richard.height ➞ 178\n",
    "giancarlo.nationality ➞ \"Italian\"\n",
    "\n",
    "\"\"\"\n",
    "\n",
    "class Employee:\n",
    "\n",
    "    def __init__(self,name=\"\",salary=\"\",height=\"\",nationality=\"\"):\n",
    "        self.name=name.split(\" \")[0]\n",
    "        self.lastname=name.split(\" \")[1]\n",
    "        self.salary=salary\n",
    "        self.height=height\n",
    "        self.nationality=nationality\n",
    "\n",
    "john = Employee(\"John Doe\")\n",
    "mary = Employee(\"Mary Major\", salary=120000)\n",
    "richard = Employee(\"Richard Roe\", salary=110000, height=178)\n",
    "giancarlo = Employee(\"Giancarlo Rossi\", salary=115000, height=182, nationality=\"Italian\")"
   ],
   "metadata": {
    "collapsed": false,
    "pycharm": {
     "name": "#%%\n"
    }
   }
  },
  {
   "cell_type": "code",
   "execution_count": 118,
   "outputs": [
    {
     "data": {
      "text/plain": "'John'"
     },
     "execution_count": 118,
     "metadata": {},
     "output_type": "execute_result"
    }
   ],
   "source": [
    "john.name\n"
   ],
   "metadata": {
    "collapsed": false,
    "pycharm": {
     "name": "#%%\n"
    }
   }
  },
  {
   "cell_type": "code",
   "execution_count": 119,
   "outputs": [
    {
     "data": {
      "text/plain": "'Major'"
     },
     "execution_count": 119,
     "metadata": {},
     "output_type": "execute_result"
    }
   ],
   "source": [
    "mary.lastname"
   ],
   "metadata": {
    "collapsed": false,
    "pycharm": {
     "name": "#%%\n"
    }
   }
  },
  {
   "cell_type": "code",
   "execution_count": 120,
   "outputs": [
    {
     "data": {
      "text/plain": "178"
     },
     "execution_count": 120,
     "metadata": {},
     "output_type": "execute_result"
    }
   ],
   "source": [
    "richard.height"
   ],
   "metadata": {
    "collapsed": false,
    "pycharm": {
     "name": "#%%\n"
    }
   }
  },
  {
   "cell_type": "code",
   "execution_count": 121,
   "outputs": [
    {
     "data": {
      "text/plain": "'Italian'"
     },
     "execution_count": 121,
     "metadata": {},
     "output_type": "execute_result"
    }
   ],
   "source": [
    "giancarlo.nationality"
   ],
   "metadata": {
    "collapsed": false,
    "pycharm": {
     "name": "#%%\n"
    }
   }
  },
  {
   "cell_type": "code",
   "execution_count": 8,
   "outputs": [
    {
     "data": {
      "text/plain": "True"
     },
     "execution_count": 8,
     "metadata": {},
     "output_type": "execute_result"
    }
   ],
   "source": [
    "'''4. Create a function that determines whether each seat can \"see\" the front-stage. A number can \"see\" the front-stage if it is strictly greater than the number before it.\n",
    "\n",
    "Everyone can see the front-stage in the example below:\n",
    "\n",
    "# FRONT STAGE\n",
    "[[1, 2, 3, 2, 1, 1],\n",
    "[2, 4, 4, 3, 2, 2],\n",
    "[5, 5, 5, 5, 4, 4],\n",
    "[6, 6, 7, 6, 5, 5]]\n",
    "\n",
    "# Starting from the left, the 6 > 5 > 2 > 1, so all numbers can see.\n",
    "# 6 > 5 > 4 > 2 - so all numbers can see, etc.\n",
    "\n",
    "Not everyone can see the front-stage in the example below:\n",
    "\n",
    "# FRONT STAGE\n",
    "[[1, 2, 3, 2, 1, 1],\n",
    "[2, 4, 4, 3, 2, 2],\n",
    "[5, 5, 5, 10, 4, 4],\n",
    "[6, 6, 7, 6, 5, 5]]\n",
    "\n",
    "# The 10 is directly in front of the 6 and blocking its view.\n",
    "\n",
    "The function should return True if every number can see the front-stage, and False if even a single number cannot.\n",
    "\n",
    "Examples\n",
    "\n",
    "can_see_stage([\n",
    "  [1, 2, 3],\n",
    "  [4, 5, 6],\n",
    "  [7, 8, 9]\n",
    "]) ➞ True\n",
    "\n",
    "can_see_stage([\n",
    "  [0, 0, 0],\n",
    "  [1, 1, 1],\n",
    "  [2, 2, 2]\n",
    "]) ➞ True\n",
    "\n",
    "can_see_stage([\n",
    "  [2, 0, 0],\n",
    "  [1, 1, 1],\n",
    "  [2, 2, 2]\n",
    "]) ➞ False\n",
    "\n",
    "can_see_stage([\n",
    "  [1, 0, 0],\n",
    "  [1, 1, 1],\n",
    "  [2, 2, 2]\n",
    "]) ➞ False\n",
    "\n",
    "# Number must be strictly smaller than\n",
    "# the number directly behind it.\n",
    "'''\n",
    "\n",
    "def can_see_stage(page_list):\n",
    "    for i in page_list:\n",
    "        j=0\n",
    "        while j < len(i) :\n",
    "            if j > 0 :\n",
    "                if i[j] < i[j-1]:\n",
    "                    return False\n",
    "            j+=1\n",
    "\n",
    "    return True\n",
    "\n",
    "\n",
    "can_see_stage([\n",
    "  [1, 2, 3],\n",
    "  [4, 5, 6],\n",
    "  [7, 8, 9]\n",
    "])"
   ],
   "metadata": {
    "collapsed": false,
    "pycharm": {
     "name": "#%%\n"
    }
   }
  },
  {
   "cell_type": "markdown",
   "source": [],
   "metadata": {
    "collapsed": false
   }
  },
  {
   "cell_type": "code",
   "execution_count": 9,
   "outputs": [
    {
     "data": {
      "text/plain": "False"
     },
     "execution_count": 9,
     "metadata": {},
     "output_type": "execute_result"
    }
   ],
   "source": [
    "can_see_stage([\n",
    "  [1, 0, 0],\n",
    "  [1, 1, 1],\n",
    "  [2, 2, 2]\n",
    "])"
   ],
   "metadata": {
    "collapsed": false,
    "pycharm": {
     "name": "#%%\n"
    }
   }
  },
  {
   "cell_type": "code",
   "execution_count": 10,
   "outputs": [
    {
     "data": {
      "text/plain": "True"
     },
     "execution_count": 10,
     "metadata": {},
     "output_type": "execute_result"
    }
   ],
   "source": [
    "can_see_stage([\n",
    "  [0, 0, 0],\n",
    "  [1, 1, 1],\n",
    "  [2, 2, 2]\n",
    "])"
   ],
   "metadata": {
    "collapsed": false,
    "pycharm": {
     "name": "#%%\n"
    }
   }
  },
  {
   "cell_type": "code",
   "execution_count": 11,
   "outputs": [
    {
     "data": {
      "text/plain": "False"
     },
     "execution_count": 11,
     "metadata": {},
     "output_type": "execute_result"
    }
   ],
   "source": [
    "can_see_stage([\n",
    "  [2, 0, 0],\n",
    "  [1, 1, 1],\n",
    "  [2, 2, 2]\n",
    "])"
   ],
   "metadata": {
    "collapsed": false,
    "pycharm": {
     "name": "#%%\n"
    }
   }
  },
  {
   "cell_type": "code",
   "execution_count": 25,
   "outputs": [],
   "source": [
    "\"\"\"5. Create a Pizza class with the attributes order_number and ingredients (which is given as a list). Only the ingredients will be given as input.\n",
    "\n",
    "You should also make it so that its possible to choose a ready made pizza flavour rather than typing out the ingredients manually! As well as creating this Pizza class, hard-code the following pizza flavours.\n",
    "\n",
    "Name\t                    Ingredients\n",
    "hawaiian\t          ham, pineapple\n",
    "meat_festival\tbeef, meatball, bacon\n",
    "garden_feast\tspinach, olives, mushroom\n",
    "\n",
    "Examples\n",
    "\n",
    "p1 = Pizza([\"bacon\", \"parmesan\", \"ham\"])    # order 1\n",
    "p2 = Pizza.garden_feast()                  # order 2\n",
    "\n",
    "p1.ingredients ➞ [\"bacon\", \"parmesan\", \"ham\"]\n",
    "\n",
    "p2.ingredients ➞ [\"spinach\", \"olives\", \"mushroom\"]\n",
    "\n",
    "p1.order_number ➞ 1\n",
    "\n",
    "p2.order_number ➞ 2\n",
    "\"\"\"\n",
    "\n",
    "class Pizza :\n",
    "    order_count=0\n",
    "\n",
    "    def __init__(self,ingredients=\"\"):\n",
    "        self.ingredients=ingredients\n",
    "        self.order_no=Pizza.order_count+1\n",
    "        Pizza.order_count=self.order_no\n",
    "\n",
    "    def garden_feast(self):\n",
    "        self.ingredients=[\"spinach\", \"olives\", \"mushroom\"]\n",
    "\n",
    "    def meat_festival(self):\n",
    "        self.ingredients=[\"beef\", \"meatball\", \"bacon\"]\n",
    "\n",
    "    def hawaiian(self):\n",
    "        self.ingredients=[\"ham\", \"pineapple\"]\n",
    "\n",
    "p1 = Pizza([\"bacon\", \"parmesan\", \"ham\"])"
   ],
   "metadata": {
    "collapsed": false,
    "pycharm": {
     "name": "#%%\n"
    }
   }
  },
  {
   "cell_type": "code",
   "execution_count": 26,
   "outputs": [
    {
     "data": {
      "text/plain": "['bacon', 'parmesan', 'ham']"
     },
     "execution_count": 26,
     "metadata": {},
     "output_type": "execute_result"
    }
   ],
   "source": [
    "p1.ingredients"
   ],
   "metadata": {
    "collapsed": false,
    "pycharm": {
     "name": "#%%\n"
    }
   }
  },
  {
   "cell_type": "code",
   "execution_count": 27,
   "outputs": [
    {
     "data": {
      "text/plain": "['spinach', 'olives', 'mushroom']"
     },
     "execution_count": 27,
     "metadata": {},
     "output_type": "execute_result"
    }
   ],
   "source": [
    "p2=Pizza()\n",
    "p2.garden_feast()\n",
    "p2.ingredients"
   ],
   "metadata": {
    "collapsed": false,
    "pycharm": {
     "name": "#%%\n"
    }
   }
  },
  {
   "cell_type": "code",
   "execution_count": 29,
   "outputs": [
    {
     "data": {
      "text/plain": "1"
     },
     "execution_count": 29,
     "metadata": {},
     "output_type": "execute_result"
    }
   ],
   "source": [
    "p1.order_no"
   ],
   "metadata": {
    "collapsed": false,
    "pycharm": {
     "name": "#%%\n"
    }
   }
  },
  {
   "cell_type": "code",
   "execution_count": 30,
   "outputs": [
    {
     "data": {
      "text/plain": "2"
     },
     "execution_count": 30,
     "metadata": {},
     "output_type": "execute_result"
    }
   ],
   "source": [
    "p2.order_no"
   ],
   "metadata": {
    "collapsed": false,
    "pycharm": {
     "name": "#%%\n"
    }
   }
  },
  {
   "cell_type": "code",
   "execution_count": null,
   "outputs": [],
   "source": [],
   "metadata": {
    "collapsed": false,
    "pycharm": {
     "name": "#%%\n"
    }
   }
  }
 ],
 "metadata": {
  "kernelspec": {
   "display_name": "Python 3",
   "language": "python",
   "name": "python3"
  },
  "language_info": {
   "codemirror_mode": {
    "name": "ipython",
    "version": 2
   },
   "file_extension": ".py",
   "mimetype": "text/x-python",
   "name": "python",
   "nbconvert_exporter": "python",
   "pygments_lexer": "ipython2",
   "version": "2.7.6"
  }
 },
 "nbformat": 4,
 "nbformat_minor": 0
}