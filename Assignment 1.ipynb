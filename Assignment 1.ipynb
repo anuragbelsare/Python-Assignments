{
 "cells": [
  {
   "cell_type": "code",
   "execution_count": null,
   "metadata": {},
   "outputs": [],
   "source": [
    "1. In the below elements which of them are values or an expression? \n",
    "eg:- values can be integer or string and expressions will be mathematical operators.\n",
    "\n",
    "Ans- \n",
    "\n",
    "* :- Expression\n",
    "'hello' :- values\n",
    "-87.8 :- values\n",
    "- :- Expression\n",
    "/ :- Expression\n",
    "+ :- Expression\n"
   ]
  },
  {
   "cell_type": "code",
   "execution_count": null,
   "metadata": {},
   "outputs": [],
   "source": [
    "# 2. What is the difference between string and variable?\n",
    "\n",
    "Ans- \n",
    "\n",
    "String:- \n",
    "    \n",
    "As far as Python is concerned, anything you assign to a variable using quotes (single or double) will be considered as a string.\n",
    "Thus, a string is one of several types of a variabl\n",
    "\n",
    "Eg. X= \"10\"\n",
    "\n",
    "So in the above eg. type of the variable is string\n",
    "\n",
    "Variable :-\n",
    "    \n",
    "You can think of variable as an identifier (or some kind of means) to store a value in a memory location \n",
    "and to manipulate it if needed.\n",
    "\n",
    "Eg. A = 50\n",
    "\n",
    "In the above eg. A is a variable, where it is considered the value 50 is stored in the variable A."
   ]
  },
  {
   "cell_type": "code",
   "execution_count": null,
   "metadata": {},
   "outputs": [],
   "source": [
    "3. Describe the different data types.\n",
    "\n",
    "Ans- \n",
    "\n",
    "1.Numeric\n",
    " a)Integer\n",
    " b)float\n",
    " c)Complex No.\n",
    "2. Dictionary\n",
    "3. Boolean\n",
    "4. Set\n",
    "5. Sequence type\n",
    " a)String\n",
    " b)List\n",
    " c)Tuple"
   ]
  },
  {
   "cell_type": "code",
   "execution_count": null,
   "metadata": {},
   "outputs": [],
   "source": [
    "4. What is an expression made up of? What do all expressions do?\n",
    "\n",
    "Ans- An expression is any sequence of literals (strings, numbers, lists, sets, tuples),\n",
    "objects, function calls, identifiers combined with a variety of operators which results in a value \n",
    "regardless of whether of the resulting value is an object, or a number.\n",
    "\n",
    "Roughly speaking, an expression is anything that evaluates to a value. \n",
    "Or that could be on the right-hand side of an assignment.\n",
    "\n",
    "Eg. a = \"hello world\" where \"hello world\" is an expression."
   ]
  },
  {
   "cell_type": "code",
   "execution_count": null,
   "metadata": {},
   "outputs": [],
   "source": [
    "5. This assignment statements, like spam = 10. What is the difference between an\n",
    "expression and a statement?\n",
    "\n",
    "Ans- An expression evaluates to a single value. A statement does not.\n"
   ]
  },
  {
   "cell_type": "code",
   "execution_count": null,
   "metadata": {},
   "outputs": [],
   "source": [
    "6. After running the following code, what does the variable bacon contain?\n",
    "bacon = 22\n",
    "bacon + 1\n",
    "\n",
    "Ans- The bacon variable is set to 20. \n",
    "The bacon + 1 expression does not reassign the value in bacon (that would need an assignment statement: bacon = bacon + 1)"
   ]
  },
  {
   "cell_type": "code",
   "execution_count": null,
   "metadata": {},
   "outputs": [],
   "source": [
    "7. What should the values of the following two terms be?\n",
    "'spam' + 'spamspam'\n",
    "'spam'*3\n",
    "\n",
    "Ans- Both expressions evaluate to the string 'spamspamspam'"
   ]
  },
  {
   "cell_type": "code",
   "execution_count": null,
   "metadata": {},
   "outputs": [],
   "source": [
    "8. Why is eggs a valid variable name while 100 is invalid?\n",
    "\n",
    "Ans- Variable names cannot begin with a number."
   ]
  },
  {
   "cell_type": "code",
   "execution_count": null,
   "metadata": {},
   "outputs": [],
   "source": [
    "9. What three functions can be used to get the integer, floating-point number, or string\n",
    "version of a value?\n",
    "\n",
    "Ans- The int(), float(), and str() functions will evaluate to the integer, floating-point number,\n",
    "and string versions of the value passed to them."
   ]
  },
  {
   "cell_type": "code",
   "execution_count": null,
   "metadata": {},
   "outputs": [],
   "source": [
    "10. Why does this expression cause an error? How can you fix it?\n",
    "'I have eaten ' + 99 + ' burritos.'\n",
    "\n",
    "Ans- The expression causes an error because 99 is an integer,\n",
    "and only strings can be concatenated to other strings with the + operator.\n",
    "The correct way is 'I have eaten ' + str(99) or '99' + ' burritos.'."
   ]
  }
 ],
 "metadata": {
  "kernelspec": {
   "display_name": "Python 3",
   "language": "python",
   "name": "python3"
  },
  "language_info": {
   "codemirror_mode": {
    "name": "ipython",
    "version": 3
   },
   "file_extension": ".py",
   "mimetype": "text/x-python",
   "name": "python",
   "nbconvert_exporter": "python",
   "pygments_lexer": "ipython3",
   "version": "3.7.4"
  }
 },
 "nbformat": 4,
 "nbformat_minor": 2
}
