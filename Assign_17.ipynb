{
 "cells": [
  {
   "cell_type": "code",
   "execution_count": 5,
   "id": "ba27bc90",
   "metadata": {},
   "outputs": [
    {
     "name": "stdout",
     "output_type": "stream",
     "text": [
      "2\n",
      "too low\n"
     ]
    }
   ],
   "source": [
    "#1. Assign the value 7 to the variable guess_me. \n",
    "#Then, write the conditional tests (if, else, and elif) to print the string 'too low' if guess_me is less than 7, \n",
    "#'too high' if greater than 7, and 'just right' if equal to 7.\n",
    "\n",
    "\n",
    "guess_me=7\n",
    "n=int(input())\n",
    "if n < guess_me : print(\"too low\")\n",
    "elif n > guess_me : print(\"too high\")\n",
    "elif n == guess_me:\n",
    "    print(\"just right\")\n",
    "\n"
   ]
  },
  {
   "cell_type": "code",
   "execution_count": 8,
   "id": "38e3d1a3",
   "metadata": {},
   "outputs": [
    {
     "name": "stdout",
     "output_type": "stream",
     "text": [
      "1  is too low\n",
      "2  is too low\n",
      "3  is too low\n",
      "4  is too low\n",
      "5  is too low\n",
      "6  is too low\n",
      "7 found it\n",
      "8 oops\n"
     ]
    }
   ],
   "source": [
    "#2. Assign the value 7 to the variable guess_me and the value 1 to the variable start. \n",
    "#Write a while loop that compares start with guess_me. \n",
    "#Print too low if start is less than guess me. If start equals guess_me, print 'found it!' and exit the loop. \n",
    "#If start is greater than guess_me, print 'oops' and exit the loop. Increment start at the end of the loop.\n",
    "guess_me=7\n",
    "start=1\n",
    "while(start):\n",
    "    if start < guess_me : print(start,\" is too low\")\n",
    "    elif start == guess_me : print(start,\"found it\")\n",
    "    elif start > guess_me:\n",
    "        print(start,\"oops\")\n",
    "        break\n",
    "    start+=1    "
   ]
  },
  {
   "cell_type": "code",
   "execution_count": null,
   "id": "d1d6ab28",
   "metadata": {},
   "outputs": [],
   "source": [
    "\n",
    "\n"
   ]
  },
  {
   "cell_type": "code",
   "execution_count": 9,
   "id": "33841b59",
   "metadata": {},
   "outputs": [
    {
     "name": "stdout",
     "output_type": "stream",
     "text": [
      "3\n",
      "2\n",
      "1\n",
      "0\n"
     ]
    }
   ],
   "source": [
    "#3. Print the following values of the list [3, 2, 1, 0] using a for loop.\n",
    "l=[3,2,1,0]\n",
    "for i in l :\n",
    "    print(i)"
   ]
  },
  {
   "cell_type": "code",
   "execution_count": 10,
   "id": "d0acc6c9",
   "metadata": {},
   "outputs": [
    {
     "name": "stdout",
     "output_type": "stream",
     "text": [
      "[0, 2, 4, 6, 8]\n"
     ]
    }
   ],
   "source": [
    "#4. Use a list comprehension to make a list of the even numbers in range(10)\n",
    "even=[]\n",
    "for i in range(10):\n",
    "    if (i%2)==0 :\n",
    "        even.append(i)\n",
    "print(even)        "
   ]
  },
  {
   "cell_type": "code",
   "execution_count": 12,
   "id": "73966e5c",
   "metadata": {},
   "outputs": [
    {
     "name": "stdout",
     "output_type": "stream",
     "text": [
      "{0: 0, 1: 1, 2: 4, 3: 9, 4: 16, 5: 25, 6: 36, 7: 49, 8: 64, 9: 81}\n"
     ]
    }
   ],
   "source": [
    "#5. Use a dictionary comprehension to create the dictionary squares. Use range(10) to return the keys, \n",
    "#and use the square of each key as its value.\n",
    "myDict = {x:x**2 for x in range(10)}\n",
    "print (myDict)"
   ]
  },
  {
   "cell_type": "code",
   "execution_count": 14,
   "id": "ce27d76f",
   "metadata": {},
   "outputs": [
    {
     "name": "stdout",
     "output_type": "stream",
     "text": [
      "{1, 3, 5, 7, 9}\n"
     ]
    }
   ],
   "source": [
    "#6. Construct the set odd from the odd numbers in the range using a set comprehension (10).\n",
    "mySet={x for x in range(10) if x%2!=0}\n",
    "print(mySet)"
   ]
  },
  {
   "cell_type": "code",
   "execution_count": 15,
   "id": "b53f0a5c",
   "metadata": {},
   "outputs": [
    {
     "name": "stdout",
     "output_type": "stream",
     "text": [
      "Got 0\n",
      "Got 1\n",
      "Got 2\n",
      "Got 3\n",
      "Got 4\n",
      "Got 5\n",
      "Got 6\n",
      "Got 7\n",
      "Got 8\n",
      "Got 9\n"
     ]
    }
   ],
   "source": [
    "#7. Use a generator comprehension to return the string 'Got ' \n",
    "#and a number for the numbers in range(10). Iterate through this by using a for loop.\n",
    "\n",
    "limit = 10\n",
    "s = ('Got ' + str(num) for num in range(limit))\n",
    "for i in s:\n",
    "    print(i)"
   ]
  },
  {
   "cell_type": "code",
   "execution_count": 16,
   "id": "501de8f7",
   "metadata": {},
   "outputs": [
    {
     "data": {
      "text/plain": [
       "['Harry', 'Ron', 'Hermione']"
      ]
     },
     "execution_count": 16,
     "metadata": {},
     "output_type": "execute_result"
    }
   ],
   "source": [
    "#8. Define a function called good that returns the list ['Harry', 'Ron', 'Hermione'].\n",
    "def good():\n",
    "    l= ['Harry', 'Ron', 'Hermione']\n",
    "    return l\n",
    "\n",
    "good()"
   ]
  },
  {
   "cell_type": "code",
   "execution_count": 18,
   "id": "45f91b65",
   "metadata": {},
   "outputs": [
    {
     "name": "stdout",
     "output_type": "stream",
     "text": [
      "5\n"
     ]
    }
   ],
   "source": [
    "#9. Define a generator function called get_odds that returns the odd numbers from range(10).\n",
    "#Use a for loop to find and print the third value returned.\n",
    "\"\"\"\"def get_odds():\n",
    "    l=[x for x in range(10) if x%2==1]\n",
    "    return l\n",
    "\n",
    "res=get_odds()\n",
    "for i in range(len(res)):\n",
    "    if i == 2 :\n",
    "        print(res[i])\n",
    "        break\"\"\"\n",
    "        \n",
    "def get_odds():\n",
    "    for number in range(1, 10, 2):\n",
    "         yield number\n",
    "\n",
    "count = 1\n",
    "for number in get_odds():\n",
    "     if count == 3:\n",
    "        print(\"The third odd number is\", number)\n",
    "        break\n",
    "        count += 1        \n",
    "        "
   ]
  },
  {
   "cell_type": "code",
   "execution_count": 19,
   "id": "48b54b9a",
   "metadata": {},
   "outputs": [
    {
     "name": "stdout",
     "output_type": "stream",
     "text": [
      "Caught an oops\n"
     ]
    }
   ],
   "source": [
    "#10. Define an exception called OopsException. \n",
    "#Raise this exception to see what happens. \n",
    "#Then write the code to catch this exception and print 'Caught an oops'.\n",
    "\n",
    "class OopsException(Exception):\n",
    "    pass\n",
    "\n",
    "\n",
    "def with_exception(a):\n",
    "    if a < 0:\n",
    "        raise OopsException(a)\n",
    "\n",
    "\n",
    "try:\n",
    "    with_exception(-1)\n",
    "except OopsException as err:\n",
    "    print('Caught an oops')"
   ]
  },
  {
   "cell_type": "code",
   "execution_count": 20,
   "id": "f134af3d",
   "metadata": {},
   "outputs": [],
   "source": [
    "#11. Use zip() to make a dictionary called movies that pairs these lists: titles = ['Creature of Habit', 'Crewel Fate'] \n",
    "#and plots = ['A nun turns into a monster', 'A haunted yarn shop'].\n",
    "titles=['Creature of Habit', 'Crewel Fate']\n",
    "plots = ['A nun turns into a monster', 'A haunted yarn shop']\n",
    "movies=dict(zip(titles,plots))"
   ]
  },
  {
   "cell_type": "code",
   "execution_count": 21,
   "id": "1996ad7f",
   "metadata": {},
   "outputs": [
    {
     "name": "stdout",
     "output_type": "stream",
     "text": [
      "{'Creature of Habit': 'A nun turns into a monster', 'Crewel Fate': 'A haunted yarn shop'}\n"
     ]
    }
   ],
   "source": [
    "print(movies)"
   ]
  },
  {
   "cell_type": "code",
   "execution_count": null,
   "id": "26163cea",
   "metadata": {},
   "outputs": [],
   "source": []
  }
 ],
 "metadata": {
  "kernelspec": {
   "display_name": "Python 3 (ipykernel)",
   "language": "python",
   "name": "python3"
  },
  "language_info": {
   "codemirror_mode": {
    "name": "ipython",
    "version": 3
   },
   "file_extension": ".py",
   "mimetype": "text/x-python",
   "name": "python",
   "nbconvert_exporter": "python",
   "pygments_lexer": "ipython3",
   "version": "3.9.7"
  }
 },
 "nbformat": 4,
 "nbformat_minor": 5
}
