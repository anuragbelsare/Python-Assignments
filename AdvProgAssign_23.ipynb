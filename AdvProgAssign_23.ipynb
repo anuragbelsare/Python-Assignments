{
 "cells": [
  {
   "cell_type": "code",
   "execution_count": 30,
   "metadata": {
    "collapsed": true
   },
   "outputs": [],
   "source": [
    "\"\"\"1. Create a class Sudoku that takes a string as an argument. The string will contain the numbers of a regular 9x9 sudoku board left to right and top to bottom, with zeros filling up the empty cells.\n",
    "\n",
    "Attributes\n",
    "\n",
    "An instance of the class Sudoku will have one attribute:\n",
    "\n",
    "   - board: a list representing the board, with sublits for each row, with the numbers as integers. Empty cell represented with 0.\n",
    "\n",
    "Methods\n",
    "\n",
    "An instance of the class Sudoku wil have three methods:\n",
    "\n",
    "   - get_row(n): will return the row in position n.\n",
    "   - get_col(n): will return the column in position n.\n",
    "   - get_sqr([n, m]): will return the square in position n if only one argument is given, and the square to which the cell in position (n, m) belongs to if two arguments are given.\n",
    "\n",
    "Example\n",
    "game = Sudoku(\"417950030000000700060007000050009106800600000000003400900005000000430000200701580\")\n",
    "\n",
    "game.board ➞ [\n",
    "  [4, 1, 7, 9, 5, 0, 0, 3, 0],\n",
    "  [0, 0, 0, 0, 0, 0, 7, 0, 0],\n",
    "  [0, 6, 0, 0, 0, 7, 0, 0, 0],\n",
    "  [0, 5, 0, 0, 0, 9, 1, 0, 6],\n",
    "  [8, 0, 0, 6, 0, 0, 0, 0, 0],\n",
    "  [0, 0, 0, 0, 0, 3, 4, 0, 0],\n",
    "  [9, 0, 0, 0, 0, 5, 0, 0, 0],\n",
    "  [0, 0, 0, 4, 3, 0, 0, 0, 0],\n",
    "  [2, 0, 0, 7, 0, 1, 5, 8, 0]\n",
    "]\n",
    "\n",
    "game.get_row(0) ➞ [4, 1, 7, 9, 5, 0, 0, 3, 0]\n",
    "game.get_col(8) ➞ [0, 0, 0, 6, 0, 0, 0, 0, 0]\n",
    "game.get_sqr(1) ➞ [9, 5, 0, 0, 0, 0, 0, 0, 7]\n",
    "game.get_sqr(1, 8) ➞ [0, 3, 0, 7, 0, 0, 0, 0, 0]\n",
    "game.get_sqr(8, 3) ➞ [0, 0, 5, 4, 3, 0, 7, 0, 1]\n",
    "\"\"\"\n",
    "\n",
    "class Sudoku :\n",
    "    board=[]\n",
    "    def __init__(self,seq_string):\n",
    "        self.seq_string=seq_string\n",
    "        board=Sudoku.board\n",
    "        count=0\n",
    "        for i in range(9):\n",
    "            new_row=[]\n",
    "            for j in range(9):\n",
    "                new_row.append(int(seq_string[count]))\n",
    "                count+=1\n",
    "            board.append(new_row)\n",
    "\n",
    "    def get_row(self,n):\n",
    "        return self.board[n]\n",
    "\n",
    "    def get_col(self,n):\n",
    "        col=[]\n",
    "        for i in range(len(self.board)):\n",
    "            col.append(self.board[i][n])\n",
    "        return col\n",
    "\n",
    "    def get_sqr(self,n,m=None):\n",
    "        l = []\n",
    "        square_to_cell = {\n",
    "            0 : [[0,1,2],[0,1,2]],\n",
    "            1 : [[0,1,2],[3,4,5]],\n",
    "            2 : [[0,1,2],[6,7,8]],\n",
    "            3 : [[3,4,5],[0,1,2]],\n",
    "            4 : [[3,4,5],[3,4,5]],\n",
    "            5 : [[3,4,5],[6,7,8]],\n",
    "            6 : [[6,7,8],[0,1,2]],\n",
    "            7 : [[6,7,8],[3,4,5]],\n",
    "            8 : [[6,7,8],[6,7,8]]\n",
    "        }\n",
    "\n",
    "        if m == None:\n",
    "            for i in square_to_cell[n][0]:\n",
    "                for j in square_to_cell[n][1]:\n",
    "                    l.append(self.board[i][j])\n",
    "        else:\n",
    "            square = None\n",
    "            if n <= 2:\n",
    "                square = 0 if m <=2 else 1 if m <=5 else 2\n",
    "            elif n <= 5:\n",
    "                square = 3 if m <=2 else 4 if m <=5 else 5\n",
    "            else:\n",
    "                square = 6 if m <=2 else 7 if m <=5 else 8\n",
    "            for i in square_to_cell[square][0]:\n",
    "                for j in square_to_cell[square][1]:\n",
    "                    l.append(self.board[i][j])\n",
    "        return l\n",
    "\n",
    "\n",
    "\n",
    "game = Sudoku(\"417950030000000700060007000050009106800600000000003400900005000000430000200701580\")"
   ]
  },
  {
   "cell_type": "code",
   "execution_count": 26,
   "outputs": [
    {
     "data": {
      "text/plain": "[[4, 1, 7, 9, 5, 0, 0, 3, 0],\n [0, 0, 0, 0, 0, 0, 7, 0, 0],\n [0, 6, 0, 0, 0, 7, 0, 0, 0],\n [0, 5, 0, 0, 0, 9, 1, 0, 6],\n [8, 0, 0, 6, 0, 0, 0, 0, 0],\n [0, 0, 0, 0, 0, 3, 4, 0, 0],\n [9, 0, 0, 0, 0, 5, 0, 0, 0],\n [0, 0, 0, 4, 3, 0, 0, 0, 0],\n [2, 0, 0, 7, 0, 1, 5, 8, 0]]"
     },
     "execution_count": 26,
     "metadata": {},
     "output_type": "execute_result"
    }
   ],
   "source": [
    "game.board"
   ],
   "metadata": {
    "collapsed": false,
    "pycharm": {
     "name": "#%%\n"
    }
   }
  },
  {
   "cell_type": "code",
   "execution_count": 23,
   "outputs": [
    {
     "data": {
      "text/plain": "[4, 1, 7, 9, 5, 0, 0, 3, 0]"
     },
     "execution_count": 23,
     "metadata": {},
     "output_type": "execute_result"
    }
   ],
   "source": [
    "game.get_row(0)"
   ],
   "metadata": {
    "collapsed": false,
    "pycharm": {
     "name": "#%%\n"
    }
   }
  },
  {
   "cell_type": "code",
   "execution_count": 27,
   "outputs": [
    {
     "data": {
      "text/plain": "[0, 0, 0, 6, 0, 0, 0, 0, 0]"
     },
     "execution_count": 27,
     "metadata": {},
     "output_type": "execute_result"
    }
   ],
   "source": [
    "game.get_col(8)"
   ],
   "metadata": {
    "collapsed": false,
    "pycharm": {
     "name": "#%%\n"
    }
   }
  },
  {
   "cell_type": "code",
   "execution_count": 31,
   "outputs": [
    {
     "data": {
      "text/plain": "[9, 5, 0, 0, 0, 0, 0, 0, 7]"
     },
     "execution_count": 31,
     "metadata": {},
     "output_type": "execute_result"
    }
   ],
   "source": [
    "game.get_sqr(1)"
   ],
   "metadata": {
    "collapsed": false,
    "pycharm": {
     "name": "#%%\n"
    }
   }
  },
  {
   "cell_type": "code",
   "execution_count": 32,
   "outputs": [
    {
     "data": {
      "text/plain": "[0, 3, 0, 7, 0, 0, 0, 0, 0]"
     },
     "execution_count": 32,
     "metadata": {},
     "output_type": "execute_result"
    }
   ],
   "source": [
    "game.get_sqr(1, 8)"
   ],
   "metadata": {
    "collapsed": false,
    "pycharm": {
     "name": "#%%\n"
    }
   }
  },
  {
   "cell_type": "code",
   "execution_count": 33,
   "outputs": [
    {
     "data": {
      "text/plain": "[0, 0, 5, 4, 3, 0, 7, 0, 1]"
     },
     "execution_count": 33,
     "metadata": {},
     "output_type": "execute_result"
    }
   ],
   "source": [
    "game.get_sqr(8, 3)"
   ],
   "metadata": {
    "collapsed": false,
    "pycharm": {
     "name": "#%%\n"
    }
   }
  },
  {
   "cell_type": "code",
   "execution_count": 26,
   "outputs": [
    {
     "data": {
      "text/plain": "[7, 0, 8]"
     },
     "execution_count": 26,
     "metadata": {},
     "output_type": "execute_result"
    }
   ],
   "source": [
    "\"\"\"2. The function input is two non-empty linked lists representing two non-negative integers. The digits are stored in reverse order, and each of their nodes contains a single digit. Add the two numbers and return the sum as a linked list, in which the digits are also stored in reversed order. The class ListNode, building block of the linked list, is defined in the Tests tab.\n",
    "\n",
    "Class definition\n",
    "\n",
    "class ListNode:\n",
    "    def __init__(self, val=0, next=None):\n",
    "        self.val = val\n",
    "        self.next = next\n",
    "\n",
    "Examples\n",
    "\n",
    "lt1 = ListNode(2)\n",
    "lt1.add_data([4, 3])\n",
    "lt2 = ListNode(5)\n",
    "lt2.add_data([6, 4])\n",
    "# print(lt1.get_data())    # [2, 4, 3]\n",
    "# print(lt2.get_data())    # [5, 6, 4]\n",
    "# print(342 + 465)         # 807\n",
    "add_two_numbers(lt1, lt2).get_data() ➞ [7, 0, 8]\n",
    "lt1 = ListNode(0)\n",
    "lt2 = ListNode(0)\n",
    "# print(lt1.get_data())    # [0]\n",
    "# print(lt2.get_data())    # [0]\n",
    "# print(0 + 0)             # 0\n",
    "add_two_numbers(lt1, lt2).get_data() ➞ [0]\n",
    "\n",
    "\n",
    "lt1 = ListNode(9)\n",
    "lt1.add_data([9,9,9,9,9,9])\n",
    "lt2 = ListNode(9)\n",
    "lt2.add_data([9,9,9])\n",
    "# print(lt1.get_data())    # [9, 9, 9, 9, 9, 9, 9]\n",
    "# print(lt2.get_data())    # [9, 9, 9, 9]\n",
    "# print(9999999 + 9999)    # 10009998\n",
    "add_two_numbers(lt1, lt2).get_data() ➞ [8, 9, 9, 9, 0, 0, 0, 1]\n",
    "\"\"\"\n",
    "class ListNode:\n",
    "    def __init__(self, val=0, next=None):\n",
    "        self.val = val\n",
    "        self.next = next\n",
    "        self.linked_list=[]\n",
    "        self.linked_list.append(val)\n",
    "\n",
    "    def add_data(self,l1):\n",
    "        self.linked_list.extend(l1)\n",
    "\n",
    "    def get_data(self):\n",
    "        return self.linked_list\n",
    "\n",
    "\n",
    "class add_two_numbers :\n",
    "    def __init__(self,obj1,obj2):\n",
    "        self.obj1=obj1\n",
    "        self.obj2=obj2\n",
    "\n",
    "    def get_data(self):\n",
    "        l1=self.obj1.get_data()\n",
    "        l2=self.obj2.get_data()\n",
    "        l1=\"\".join(map(str,l1))\n",
    "        l2=\"\".join(map(str,l2))\n",
    "        sum=int(l1)+int(l2)\n",
    "        result=[int(x) for x in str(sum)[::-1]]\n",
    "        return result\n",
    "\n",
    "lt1 = ListNode(2)\n",
    "lt1.add_data([4, 3])\n",
    "lt2 = ListNode(5)\n",
    "lt2.add_data([6, 4])\n",
    "#print(lt1.get_data())\n",
    "#print(lt2.get_data())\n",
    "#print(342 + 465)\n",
    "add_two_numbers(lt1, lt2).get_data()"
   ],
   "metadata": {
    "collapsed": false,
    "pycharm": {
     "name": "#%%\n"
    }
   }
  },
  {
   "cell_type": "code",
   "execution_count": 28,
   "outputs": [
    {
     "data": {
      "text/plain": "[0]"
     },
     "execution_count": 28,
     "metadata": {},
     "output_type": "execute_result"
    }
   ],
   "source": [
    "lt1 = ListNode(0)\n",
    "lt2 = ListNode(0)\n",
    "# print(lt1.get_data())    # [0]\n",
    "# print(lt2.get_data())    # [0]\n",
    "# print(0 + 0)             # 0\n",
    "add_two_numbers(lt1, lt2).get_data()\n"
   ],
   "metadata": {
    "collapsed": false,
    "pycharm": {
     "name": "#%%\n"
    }
   }
  },
  {
   "cell_type": "code",
   "execution_count": 29,
   "outputs": [
    {
     "data": {
      "text/plain": "[8, 9, 9, 9, 0, 0, 0, 1]"
     },
     "execution_count": 29,
     "metadata": {},
     "output_type": "execute_result"
    }
   ],
   "source": [
    "lt1 = ListNode(9)\n",
    "lt1.add_data([9,9,9,9,9,9])\n",
    "lt2 = ListNode(9)\n",
    "lt2.add_data([9,9,9])\n",
    "# print(lt1.get_data())    # [9, 9, 9, 9, 9, 9, 9]\n",
    "# print(lt2.get_data())    # [9, 9, 9, 9]\n",
    "# print(9999999 + 9999)    # 10009998\n",
    "add_two_numbers(lt1, lt2).get_data() #➞ [8, 9, 9, 9, 0, 0, 0, 1]"
   ],
   "metadata": {
    "collapsed": false,
    "pycharm": {
     "name": "#%%\n"
    }
   }
  },
  {
   "cell_type": "markdown",
   "source": [
    "3. Write a class called CoffeeShop, which has three instance variables:\n",
    "\n",
    "   1. name : a string (basically, of the shop)\n",
    "   2. menu : a list of items (of dict type), with each item containing the item (name of the item), type (whether a food or a drink) and price.\n",
    "   3. orders : an empty list\n",
    "\n",
    "and seven methods:\n",
    "\n",
    "  1. add_order: adds the name of the item to the end of the orders list if it exists on the menu, otherwise, return \"This item is currently unavailable!\"\n",
    "  2. fulfill_order: if the orders list is not empty, return \"The {item} is ready!\". If the orders list is empty, return \"All orders have been fulfilled!\"\n",
    "  3. list_orders: returns the item names of the orders taken, otherwise, an empty list.\n",
    "  4. due_amount: returns the total amount due for the orders taken.\n",
    "  5. cheapest_item: returns the name of the cheapest item on the menu.\n",
    "  6. drinks_only: returns only the item names of type drink from the menu.\n",
    "  7. food_only: returns only the item names of type food from the menu.\n",
    "\n",
    "IMPORTANT: Orders are fulfilled in a FIFO (first-in, first-out) order.\n",
    "\n",
    "Examples\n",
    "\n",
    "tcs.add_order(\"hot cocoa\") ➞ \"This item is currently unavailable!\"\n",
    "# Tesha's coffee shop does not sell hot cocoa\n",
    "tcs.add_order(\"iced tea\") ➞ \"This item is currently unavailable!\"\n",
    "# specifying the variant of \"iced tea\" will help the process\n",
    "\n",
    "tcs.add_order(\"cinnamon roll\") ➞  \"Order added!\"\n",
    "tcs.add_order(\"iced coffee\") ➞ \"Order added!\"\n",
    "tcs.list_orders ➞ [\"cinnamon roll\", \"iced coffee\"]\n",
    "# all items of the current order\n",
    "\n",
    "tcs.due_amount() ➞ 2.17\n",
    "\n",
    "tcs.fulfill_order() ➞ \"The cinnamon roll is ready!\"\n",
    "tcs.fulfill_order() ➞ \"The iced coffee is ready!\"\n",
    "tcs.fulfill_order() ➞ \"All orders have been fulfilled!\"\n",
    "# all orders have been presumably served\n",
    "\n",
    "tcs.list_orders() ➞ []\n",
    "# an empty list is returned if all orders have been exhausted\n",
    "\n",
    "tcs.due_amount() ➞ 0.0\n",
    "# no new orders taken, expect a zero payable\n",
    "\n",
    "tcs.cheapest_item() ➞ \"lemonade\"\n",
    "tcs.drinks_only() ➞ [\"orange juice\", \"lemonade\", \"cranberry juice\", \"pineapple juice\", \"lemon iced tea\", \"vanilla chai latte\", \"hot chocolate\", \"iced coffee\"]\n",
    "tcs.food_only() ➞ [\"tuna sandwich\", \"ham and cheese sandwich\", \"bacon and egg\", \"steak\", \"hamburger\", \"cinnamon roll\"]\n",
    "\"\"\""
   ],
   "metadata": {
    "collapsed": false,
    "pycharm": {
     "name": "#%% md\n"
    }
   }
  },
  {
   "cell_type": "code",
   "execution_count": 242,
   "outputs": [
    {
     "data": {
      "text/plain": "'This item is currently unavailable!'"
     },
     "execution_count": 242,
     "metadata": {},
     "output_type": "execute_result"
    },
    {
     "data": {
      "text/plain": "'All orders have been fulfilled!'"
     },
     "execution_count": 242,
     "metadata": {},
     "output_type": "execute_result"
    },
    {
     "data": {
      "text/plain": "'This item is currently unavailable!'"
     },
     "execution_count": 242,
     "metadata": {},
     "output_type": "execute_result"
    },
    {
     "data": {
      "text/plain": "'Order Added!'"
     },
     "execution_count": 242,
     "metadata": {},
     "output_type": "execute_result"
    },
    {
     "data": {
      "text/plain": "'Order Added!'"
     },
     "execution_count": 242,
     "metadata": {},
     "output_type": "execute_result"
    },
    {
     "data": {
      "text/plain": "130.37"
     },
     "execution_count": 242,
     "metadata": {},
     "output_type": "execute_result"
    },
    {
     "name": "stdout",
     "output_type": "stream",
     "text": [
      "['cinnamon roll', 'iced coffee']\n"
     ]
    },
    {
     "data": {
      "text/plain": "'The cinnamon roll is ready!'"
     },
     "execution_count": 242,
     "metadata": {},
     "output_type": "execute_result"
    },
    {
     "name": "stdout",
     "output_type": "stream",
     "text": [
      "['iced coffee']\n"
     ]
    },
    {
     "data": {
      "text/plain": "'The iced coffee is ready!'"
     },
     "execution_count": 242,
     "metadata": {},
     "output_type": "execute_result"
    },
    {
     "data": {
      "text/plain": "'All orders have been fulfilled!'"
     },
     "execution_count": 242,
     "metadata": {},
     "output_type": "execute_result"
    },
    {
     "data": {
      "text/plain": "[]"
     },
     "execution_count": 242,
     "metadata": {},
     "output_type": "execute_result"
    },
    {
     "data": {
      "text/plain": "'All orders have been fulfilled!'"
     },
     "execution_count": 242,
     "metadata": {},
     "output_type": "execute_result"
    },
    {
     "data": {
      "text/plain": "'All orders have been fulfilled!'"
     },
     "execution_count": 242,
     "metadata": {},
     "output_type": "execute_result"
    },
    {
     "data": {
      "text/plain": "'All orders have been fulfilled!'"
     },
     "execution_count": 242,
     "metadata": {},
     "output_type": "execute_result"
    },
    {
     "data": {
      "text/plain": "['Lemonade']"
     },
     "execution_count": 242,
     "metadata": {},
     "output_type": "execute_result"
    },
    {
     "data": {
      "text/plain": "['Orange Juice',\n 'Lemonade',\n 'Cranberry Juice',\n 'Pineapple Juice',\n 'Lemon Iced Tea',\n 'Vanilla Chai Latte',\n 'Hot Choclate',\n 'Iced Coffee']"
     },
     "execution_count": 242,
     "metadata": {},
     "output_type": "execute_result"
    },
    {
     "data": {
      "text/plain": "['Tuna Sandwich',\n 'Ham Cheese Sandwich',\n 'Bacon And Egg',\n 'Chicken Biryani',\n 'Veg Burger',\n 'Cinnamon Roll']"
     },
     "execution_count": 242,
     "metadata": {},
     "output_type": "execute_result"
    }
   ],
   "source": [
    "\n",
    "Menu = [\n",
    "    {'name':'Orange Juice','type':'drink','price':25.50},\n",
    "    {'name':'Lemonade','type':'drink','price':10},\n",
    "    {'name':'Cranberry Juice','type':'drink','price':40},\n",
    "    {'name':'Pineapple Juice','type':'drink','price':40},\n",
    "    {'name':'Lemon Iced Tea','type':'drink','price':80},\n",
    "    {'name':'Vanilla Chai Latte','type':'drink','price':90},\n",
    "    {'name':'Hot Choclate','type':'drink','price':100},\n",
    "    {'name':'Iced Coffee','type':'drink','price':70.12},\n",
    "    {'name':'Tuna Sandwich','type':'food','price':120},\n",
    "    {'name':'Ham Cheese Sandwich','type':'food','price':180},\n",
    "    {'name':'Bacon And Egg','type':'food','price': 120},\n",
    "    {'name':'Chicken Biryani','type':'food','price':360},\n",
    "    {'name':'Veg Burger','type':'food','price':90},\n",
    "    {'name':'Cinnamon Roll','type':'food','price':60.25}\n",
    "]\n",
    "class CoffeeShop:\n",
    "\n",
    "    def __init__(self,name,menu_list,orders):\n",
    "        self.name=name\n",
    "        self.menu_list=menu_list\n",
    "        self.orders=orders\n",
    "\n",
    "    def add_order(self,ord_name):\n",
    "            found=0\n",
    "            for item in self.menu_list :\n",
    "                if ord_name.casefold() == item['name'].casefold():\n",
    "                    self.orders.append(ord_name)\n",
    "                    found=1\n",
    "            if found ==0 : return \"This item is currently unavailable!\"\n",
    "            else : return \"Order Added!\"\n",
    "\n",
    "    def fulfill_order(self):\n",
    "        if len(self.orders) == 0 :\n",
    "            return \"All orders have been fulfilled!\"\n",
    "        else:\n",
    "            print(self.orders)\n",
    "            item=self.orders[0]\n",
    "            self.orders.pop(0)\n",
    "            return f\"The {item} is ready!\"\n",
    "\n",
    "    def list_orders(self):\n",
    "        return self.orders\n",
    "\n",
    "    def due_amount(self):\n",
    "        due_amt=0.00\n",
    "        if len(self.orders) > 0 :\n",
    "            for i in self.menu_list :\n",
    "                if i['name'].casefold() in self.orders :\n",
    "                    due_amt=due_amt+float(i['price'])\n",
    "        return due_amt\n",
    "\n",
    "    def cheapest_item(self):\n",
    "        cheapest_price=min(i['price'] for i in self.menu_list)\n",
    "        cheapest_item=[i['name'] for i in self.menu_list if i['price']==cheapest_price]\n",
    "        return cheapest_item\n",
    "\n",
    "    def drinks_only(self):\n",
    "        drink_list=[i['name'] for i in self.menu_list if i['type']=='drink']\n",
    "        return drink_list\n",
    "\n",
    "    def food_only(self):\n",
    "        food_list=[i['name'] for i in self.menu_list if i['type']=='food']\n",
    "        return food_list\n",
    "\n",
    "\n",
    "tcs=CoffeeShop(\"Tesha Coffee Shop\",Menu,[])\n",
    "tcs.add_order(\"hot cocoa\")\n",
    "tcs.fulfill_order()\n",
    "tcs.add_order(\"iced tea\")\n",
    "tcs.add_order(\"cinnamon roll\")\n",
    "tcs.add_order(\"iced coffee\")\n",
    "tcs.due_amount()\n",
    "tcs.fulfill_order()\n",
    "tcs.fulfill_order()\n",
    "tcs.fulfill_order()\n",
    "tcs.list_orders()\n",
    "tcs.fulfill_order()\n",
    "tcs.fulfill_order()\n",
    "tcs.fulfill_order()\n",
    "tcs.cheapest_item()\n",
    "tcs.drinks_only()\n",
    "tcs.food_only()"
   ],
   "metadata": {
    "collapsed": false,
    "pycharm": {
     "name": "#%%\n"
    }
   }
  },
  {
   "cell_type": "markdown",
   "source": [
    "\"\"\"4. In this challenge, write a funcion loneliest_number to find the last Lonely number inside a sequence. A number is Lonely if the distance from its closest Prime sets a new record of the sequence.\n",
    "\n",
    "Sequence = from 0 to 3\n",
    "\n",
    "# Any number lower than 3 doesn't have a Prime preceeding it...\n",
    "# ...so that you'll consider only its next closest Prime.\n",
    "\n",
    "0 has distance 2 from its closest Prime (2)\n",
    "# It's a new record! 0 It's the first lonely number of the sequence\n",
    "1 has distance 1 from its closest Prime (2)\n",
    "2 has distance 1 from 3\n",
    "3 has distance 1 from 2\n",
    "\n",
    "# The sequence 0 to 3  has only one Lonely number: 0\n",
    "\n",
    "Sequence = Numbers from 5 to 10\n",
    "\n",
    "5 has distance 2 from its closest Prime (3 or 7)\n",
    "# It's a new record! 5 It's the first lonely number of the sequence\n",
    "6 has distance 1 from 5 or 7\n",
    "7 has distance 2 from 5\n",
    "8 has distance 1 from 7\n",
    "9 has distance 2 from 7 or 11\n",
    "10 has distance 1 from 11\n",
    "\n",
    "# The sequence 5 to 10  has only one Lonely number: 5\n",
    "\n",
    "Sequence = Numbers from 19 to 24\n",
    "\n",
    "19 has distance 2 from its closest Prime (17)\n",
    "# It's a new record! 19 It's the first lonely number of the sequence\n",
    "20 has distance 1 from 19\n",
    "21 has distance 2 from 5\n",
    "22 has distance 1 from 23\n",
    "23 has distance 4 from 17 or 29\n",
    "# It's a new record! 23 is the second lonely number of the sequence\n",
    "24 has distance 1 from 23\n",
    "\n",
    "# The sequence 19 to 24  has two Lonely numbers: 19 and 23\n",
    "\n",
    "The function loneliest_number must accept two integers lo and hi being the inclusive bounds of the sequence to analyze, and returns a dictionay (dict) object with the following keys and values:\n",
    "\n",
    "   - number: is the last Lonely number found in the given sequence;\n",
    "   - distance: is the distance of the number from its closest Prime;\n",
    "   - closest: is the Prime closest to number (if two Primes are equally distant from number, return the higher Prime).\n",
    "\n",
    "Examples\n",
    "\n",
    "loneliest_number(0, 22) ➞ {\n",
    "  number: 0, distance: 2, closest: 2\n",
    "}\n",
    "\n",
    "loneliest_number(8, 123) ➞ {\n",
    "  number: 53, distance: 6, closest: 59\n",
    "}\n",
    "\n",
    "loneliest_number(938, 1190) ➞ {\n",
    "  number: 1140, distance: 11, closest: 1151\n",
    "}\n",
    "\n",
    "loneliest_number(120, 1190) ➞ {\n",
    "  number: 211, distance: 12, closest: 223\n",
    "}\n",
    "\"\"\"\n",
    "\n"
   ],
   "metadata": {
    "collapsed": false,
    "pycharm": {
     "name": "#%% md\n"
    }
   }
  },
  {
   "cell_type": "code",
   "execution_count": 272,
   "outputs": [
    {
     "data": {
      "text/plain": "{'number': 0, 'distance': 2, 'closest': 2}"
     },
     "execution_count": 272,
     "metadata": {},
     "output_type": "execute_result"
    },
    {
     "data": {
      "text/plain": "{'number': 1140, 'distance': 11, 'closest': 1151}"
     },
     "execution_count": 272,
     "metadata": {},
     "output_type": "execute_result"
    }
   ],
   "source": [
    "def prime_nos(lo,hi):\n",
    "    new_primes=[]\n",
    "    for i in range(lo,hi+1) :\n",
    "        if (i >=1):\n",
    "            for j in range(2,i):\n",
    "                if(i % j == 0):\n",
    "                    break\n",
    "            else :\n",
    "                new_primes.append(i)\n",
    "    return new_primes\n",
    "\n",
    "\n",
    "def loneliest_number(start,end):\n",
    "    prime_list = []\n",
    "    output = {'number': 0, 'distance': 0, 'closest': 0}\n",
    "    temp = []\n",
    "    prime_list=prime_nos(start,end) # get prime nos in the given range\n",
    "\n",
    "    for i in prime_list:\n",
    "        for item in range(2,i):\n",
    "            if i%item == 0 :\n",
    "                temp.append(i)\n",
    "                break\n",
    "\n",
    "    prime_list = sorted(set(prime_list)-set(temp))\n",
    "    if start in [4,5] : print(3) ; prime_list.insert(0,3) # Logic to get first prime number before start\n",
    "    else:\n",
    "        for ele in range(start-1,0,-1):\n",
    "            if (ele-1)%6 == 0 or (ele+1)%6 == 0:\n",
    "                prime_list.insert(0,ele)\n",
    "                break\n",
    "    while True: # Logic to get first prime number after end\n",
    "        if (end-1)%6 == 0 or (end+1)%6 == 0:\n",
    "            out_num = None\n",
    "            for ele in range(2,end):\n",
    "                if end%ele == 0:\n",
    "                    out_num = ele\n",
    "                    break\n",
    "            if out_num == None:prime_list.append(end) ; break\n",
    "            else: end +=1\n",
    "        else:\n",
    "            end+=1\n",
    "    if 1 in prime_list: prime_list.remove(1)\n",
    "    for ele in range(start,end):\n",
    "        org_ele = ele\n",
    "        while True:\n",
    "            if ele in prime_list:\n",
    "                n_f_prime = ele if ele != org_ele else prime_list[prime_list.index(ele)+1]\n",
    "                n_b_prime = prime_list[prime_list.index(ele)-1] if prime_list.index(ele) > 0 else 0\n",
    "                closest_distance = min(org_ele-n_b_prime,n_f_prime-org_ele) if n_b_prime !=0 else n_f_prime-org_ele\n",
    "                closest_prime = n_f_prime if n_b_prime == 0 or closest_distance == n_f_prime-org_ele else n_b_prime\n",
    "                if output['distance'] < closest_distance:\n",
    "                    output = {'number': org_ele, 'distance': closest_distance, 'closest': closest_prime}\n",
    "                break\n",
    "            else:\n",
    "                ele +=1\n",
    "    return output\n",
    "\n",
    "loneliest_number(0,22)\n",
    "loneliest_number(938, 1190)"
   ],
   "metadata": {
    "collapsed": false,
    "pycharm": {
     "name": "#%%\n"
    }
   }
  },
  {
   "cell_type": "code",
   "execution_count": null,
   "outputs": [],
   "source": [
    "\"\"\"5. Implement a class Selfie that can store the current state of the object in the form of binary string. It can take multiple pictures and then recover to a state it was before. During testing an object will be provided with new attributes and their values. It will store its state. Then the values will be changed. Then it will be given new attributes. It will store its state again. It will be repeated few times.\n",
    "\n",
    "Later the states of the object will be recovered given an index. The return value should be a new Selfie with the requested historic state and the state history of the new object should be updated with a copy of current object's state history.\n",
    "\n",
    "The object also knows how many states it has stored. If the index is not within the range of stored states, the object stays as is. If the argument is invalid, n < 0 or n >= self.n_states(), the current object (or a copy thereof) should be returned.\n",
    "\n",
    "Examples\n",
    "\n",
    "p = Selfie()\n",
    "p.x = 2\n",
    "p.save_state()\n",
    "p.x = 5\n",
    "p = p.recover_state(0)\n",
    "p.x ➞ 2\n",
    "\"\"\""
   ],
   "metadata": {
    "collapsed": false,
    "pycharm": {
     "name": "#%%\n"
    }
   }
  },
  {
   "cell_type": "code",
   "execution_count": 286,
   "outputs": [
    {
     "data": {
      "text/plain": "[2]"
     },
     "execution_count": 286,
     "metadata": {},
     "output_type": "execute_result"
    },
    {
     "data": {
      "text/plain": "[2, 5]"
     },
     "execution_count": 286,
     "metadata": {},
     "output_type": "execute_result"
    },
    {
     "data": {
      "text/plain": "2"
     },
     "execution_count": 286,
     "metadata": {},
     "output_type": "execute_result"
    }
   ],
   "source": [
    "class Selfie:\n",
    "    def __init__(self,x=None):\n",
    "        self.x = x\n",
    "        self.archived_states = []\n",
    "    def save_state(self):\n",
    "        self.archived_states.append(self.x)\n",
    "        self.x = None\n",
    "        return self.archived_states\n",
    "    def recover_state(self,in_num):\n",
    "        if in_num >=0 and in_num <= len(self.archived_states):\n",
    "            self.x = self.archived_states[in_num]\n",
    "        return self\n",
    "\n",
    "p = Selfie()\n",
    "p.x = 2\n",
    "p.save_state()\n",
    "p.x = 5\n",
    "p.save_state()\n",
    "p = p.recover_state(0)\n",
    "p.x"
   ],
   "metadata": {
    "collapsed": false,
    "pycharm": {
     "name": "#%%\n"
    }
   }
  },
  {
   "cell_type": "code",
   "execution_count": 274,
   "outputs": [],
   "source": [],
   "metadata": {
    "collapsed": false,
    "pycharm": {
     "name": "#%%\n"
    }
   }
  },
  {
   "cell_type": "code",
   "execution_count": null,
   "outputs": [],
   "source": [],
   "metadata": {
    "collapsed": false,
    "pycharm": {
     "name": "#%%\n"
    }
   }
  }
 ],
 "metadata": {
  "kernelspec": {
   "display_name": "Python 3",
   "language": "python",
   "name": "python3"
  },
  "language_info": {
   "codemirror_mode": {
    "name": "ipython",
    "version": 2
   },
   "file_extension": ".py",
   "mimetype": "text/x-python",
   "name": "python",
   "nbconvert_exporter": "python",
   "pygments_lexer": "ipython2",
   "version": "2.7.6"
  }
 },
 "nbformat": 4,
 "nbformat_minor": 0
}