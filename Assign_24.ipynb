{
 "cells": [
  {
   "cell_type": "code",
   "execution_count": null,
   "id": "74275d56",
   "metadata": {},
   "outputs": [],
   "source": [
    "#1. What is the relationship between def statements and lambda expressions ?\n",
    "\n",
    "the def keyword is used to define a normal function in Python.\n",
    "Similarly, the lambda keyword is used to define an anonymous function in Python. "
   ]
  },
  {
   "cell_type": "code",
   "execution_count": null,
   "id": "7c92792a",
   "metadata": {},
   "outputs": [],
   "source": [
    "#2. What is the benefit of lambda?\n",
    "The lambda keyword in Python provides a shortcut for declaring small anonymous functions. \n",
    "Lambda functions behave just like regular functions declared with the def keyword. \n",
    "They can be used whenever function objects are required."
   ]
  },
  {
   "cell_type": "code",
   "execution_count": null,
   "id": "72a4069d",
   "metadata": {},
   "outputs": [],
   "source": [
    "#3. Compare and contrast map, filter, and reduce.\n",
    "\n",
    "map -- function and iterables as input\n",
    "    -- calls the function and gives the result \n",
    "    --- can take user defined function and lambda also taken as input\n",
    "    ---syntax :map(function,iterables)\n",
    "        \n",
    "filter -- function and iterables as input like map\n",
    "        -- calls the function and produce the result which returns True\n",
    "        ---syntax filter(function,iterables)\n",
    "            --- can take user defined function and lambda also taken as input\n",
    "\n",
    "reduce ----The reduce() function applies a provided function to ‘iterables’ and returns a single value, as the name implies\n",
    "        ----syntax reduce(function,iterables)\n",
    "        -----The function specifies which expression should be applied to the ‘iterables’ in this case. \n",
    "             The function tools module must be used to import this function\n",
    "            from functools import reduce\n",
    "            reduce(lambda a,b: a+b,[23,21,45,98])"
   ]
  },
  {
   "cell_type": "code",
   "execution_count": null,
   "id": "d0ffc310",
   "metadata": {},
   "outputs": [],
   "source": [
    "#4. What are function annotations, and how are they used?\n",
    "Function annotations are completely optional both for parameters and return value.\n",
    "Function annotations provide a way of associating various parts of a function\n",
    "with arbitrary python expressions at compile time.\n",
    "\n",
    "Annotations for simple parameters : The argument name is followed by ‘:’ which is then followed by the expression.\n",
    "Annotation syntax is shown below.\n",
    "def foobar(a: expression, b: expression = 5):...etc."
   ]
  },
  {
   "cell_type": "code",
   "execution_count": null,
   "id": "5e7bcb94",
   "metadata": {},
   "outputs": [],
   "source": [
    "#5. What are recursive functions, and how are they used?\n",
    "What are recursive functions with example?\n",
    "Recursive Function is a function that repeats or uses its own previous term to calculate subsequent terms \n",
    "and thus forms a sequence of terms.\n",
    "\n",
    "def recursive(a,b):\n",
    "    ...........\n",
    "    .............\n",
    "    n=a+b\n",
    "    if n > b:\n",
    "        recursive(a,b)"
   ]
  },
  {
   "cell_type": "code",
   "execution_count": null,
   "id": "3780ad7e",
   "metadata": {},
   "outputs": [],
   "source": [
    "#6. What are some general design guidelines for coding functions?\n",
    "1. Use 4-space indentation and no tabs.\n",
    "\n",
    "2. Use docstrings : There are both single and multi-line docstrings that can be used in Python.\n",
    "However, the single line comment fits in one line, triple quotes are used in both cases.\n",
    "These are used to define a particular program or define a particular function.\n",
    "\n",
    "3. Wrap lines so that they don’t exceed 79 characters\n",
    "\n",
    "4. Use of regular and updated comments are valuable to both the coders and users :\n",
    "    \n",
    "5. Use spaces around operators and after commas, but not directly inside bracketing constructs\n",
    "\n",
    "6. Name your classes and functions consistently : \n",
    "    The convention is to use CamelCase for classes and lower_case_with_underscores for functions and methods. \n",
    "    Always use self as the name for the first method argument."
   ]
  },
  {
   "cell_type": "code",
   "execution_count": null,
   "id": "7bfa5fea",
   "metadata": {},
   "outputs": [],
   "source": [
    "#7. Name three or more ways that functions can communicate results to a caller.\n",
    "1.print statement\n",
    "2.using return \n",
    "3.using function as object\n"
   ]
  }
 ],
 "metadata": {
  "kernelspec": {
   "display_name": "Python 3 (ipykernel)",
   "language": "python",
   "name": "python3"
  },
  "language_info": {
   "codemirror_mode": {
    "name": "ipython",
    "version": 3
   },
   "file_extension": ".py",
   "mimetype": "text/x-python",
   "name": "python",
   "nbconvert_exporter": "python",
   "pygments_lexer": "ipython3",
   "version": "3.9.7"
  }
 },
 "nbformat": 4,
 "nbformat_minor": 5
}
